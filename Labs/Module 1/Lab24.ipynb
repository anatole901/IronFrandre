{
 "cells": [
  {
   "cell_type": "markdown",
   "metadata": {},
   "source": [
    "Lab 24 Numpy\n",
    "\n",
    "Intrduction to NumPy\n",
    "1. Import NumPy under the name np."
   ]
  },
  {
   "cell_type": "code",
   "execution_count": 1,
   "metadata": {},
   "outputs": [
    {
     "name": "stdout",
     "output_type": "stream",
     "text": [
      "5\n"
     ]
    }
   ],
   "source": [
    "print(5)"
   ]
  },
  {
   "cell_type": "code",
   "execution_count": 2,
   "metadata": {},
   "outputs": [],
   "source": [
    "import numpy as np"
   ]
  },
  {
   "cell_type": "markdown",
   "metadata": {},
   "source": [
    "2. Print your NumPy version."
   ]
  },
  {
   "cell_type": "code",
   "execution_count": 3,
   "metadata": {},
   "outputs": [
    {
     "name": "stdout",
     "output_type": "stream",
     "text": [
      "1.21.5\n"
     ]
    }
   ],
   "source": [
    "print(np.__version__)"
   ]
  },
  {
   "cell_type": "markdown",
   "metadata": {},
   "source": [
    "3. Generate a 2x3x5 3-dimensional array with random values. Assign the array to variable a.\n",
    "\n",
    "4. Print a."
   ]
  },
  {
   "cell_type": "code",
   "execution_count": 15,
   "metadata": {},
   "outputs": [
    {
     "data": {
      "text/plain": [
       "array([[[0.21173541, 0.91276754, 0.89231243, 0.18356038, 0.32090756],\n",
       "        [0.66478175, 0.26007279, 0.99116583, 0.74621805, 0.38482048],\n",
       "        [0.59797575, 0.82063408, 0.9880698 , 0.87277494, 0.78276818]],\n",
       "\n",
       "       [[0.50729173, 0.65366149, 0.05781761, 0.36482339, 0.09283169],\n",
       "        [0.03768137, 0.56717504, 0.96764738, 0.11024709, 0.64656289],\n",
       "        [0.09751665, 0.8437646 , 0.98192091, 0.93329245, 0.50751633]]])"
      ]
     },
     "execution_count": 15,
     "metadata": {},
     "output_type": "execute_result"
    }
   ],
   "source": [
    "a = np.random.random((2, 3, 5))\n",
    "a"
   ]
  },
  {
   "cell_type": "code",
   "execution_count": 16,
   "metadata": {},
   "outputs": [
    {
     "data": {
      "text/plain": [
       "numpy.random._generator.Generator"
      ]
     },
     "execution_count": 16,
     "metadata": {},
     "output_type": "execute_result"
    }
   ],
   "source": [
    "a2 = np.random.default_rng(1)\n",
    "type(a2)"
   ]
  },
  {
   "cell_type": "markdown",
   "metadata": {},
   "source": [
    "5. Create a 5x2x3 3-dimensional array with all values equaling 1. Assign the array to variable b.\n",
    "\n",
    "6. Print b."
   ]
  },
  {
   "cell_type": "code",
   "execution_count": 26,
   "metadata": {},
   "outputs": [
    {
     "data": {
      "text/plain": [
       "array([[[1, 1],\n",
       "        [1, 1],\n",
       "        [1, 1]],\n",
       "\n",
       "       [[1, 1],\n",
       "        [1, 1],\n",
       "        [1, 1]],\n",
       "\n",
       "       [[1, 1],\n",
       "        [1, 1],\n",
       "        [1, 1]],\n",
       "\n",
       "       [[1, 1],\n",
       "        [1, 1],\n",
       "        [1, 1]],\n",
       "\n",
       "       [[1, 1],\n",
       "        [1, 1],\n",
       "        [1, 1]]])"
      ]
     },
     "execution_count": 26,
     "metadata": {},
     "output_type": "execute_result"
    }
   ],
   "source": [
    "b = np.zeros((5, 3, 2), dtype=int) + 1\n",
    "b"
   ]
  },
  {
   "cell_type": "markdown",
   "metadata": {},
   "source": [
    "7. Do a and b have the same size? How do you prove that in Python code?"
   ]
  },
  {
   "cell_type": "code",
   "execution_count": 27,
   "metadata": {},
   "outputs": [
    {
     "data": {
      "text/plain": [
       "False"
      ]
     },
     "execution_count": 27,
     "metadata": {},
     "output_type": "execute_result"
    }
   ],
   "source": [
    "a.shape == b.shape"
   ]
  },
  {
   "cell_type": "markdown",
   "metadata": {},
   "source": [
    "8. Are you able to add a and b? Why or why not?\n",
    "No. We cannot add matrices of different sizes.\n",
    "\n",
    "9. Transpose b so that it has the same structure of a (i.e. become a 2x3x5 array). Assign the transposed array to variable c."
   ]
  },
  {
   "cell_type": "code",
   "execution_count": 28,
   "metadata": {},
   "outputs": [
    {
     "data": {
      "text/plain": [
       "(2, 3, 5)"
      ]
     },
     "execution_count": 28,
     "metadata": {},
     "output_type": "execute_result"
    }
   ],
   "source": [
    "c = b.transpose()\n",
    "c.shape"
   ]
  },
  {
   "cell_type": "markdown",
   "metadata": {},
   "source": [
    "10. Try to add a and c. Now it should work. Assign the sum to variable d. But why does it work now?"
   ]
  },
  {
   "cell_type": "code",
   "execution_count": 29,
   "metadata": {},
   "outputs": [
    {
     "data": {
      "text/plain": [
       "array([[[1.21173541, 1.91276754, 1.89231243, 1.18356038, 1.32090756],\n",
       "        [1.66478175, 1.26007279, 1.99116583, 1.74621805, 1.38482048],\n",
       "        [1.59797575, 1.82063408, 1.9880698 , 1.87277494, 1.78276818]],\n",
       "\n",
       "       [[1.50729173, 1.65366149, 1.05781761, 1.36482339, 1.09283169],\n",
       "        [1.03768137, 1.56717504, 1.96764738, 1.11024709, 1.64656289],\n",
       "        [1.09751665, 1.8437646 , 1.98192091, 1.93329245, 1.50751633]]])"
      ]
     },
     "execution_count": 29,
     "metadata": {},
     "output_type": "execute_result"
    }
   ],
   "source": [
    "d = a + c\n",
    "d"
   ]
  },
  {
   "cell_type": "markdown",
   "metadata": {},
   "source": [
    "11. Print a and d. Notice the difference and relation of the two array in terms of the values? Explain."
   ]
  },
  {
   "cell_type": "code",
   "execution_count": 30,
   "metadata": {},
   "outputs": [
    {
     "name": "stdout",
     "output_type": "stream",
     "text": [
      "[[[0.21173541 0.91276754 0.89231243 0.18356038 0.32090756]\n",
      "  [0.66478175 0.26007279 0.99116583 0.74621805 0.38482048]\n",
      "  [0.59797575 0.82063408 0.9880698  0.87277494 0.78276818]]\n",
      "\n",
      " [[0.50729173 0.65366149 0.05781761 0.36482339 0.09283169]\n",
      "  [0.03768137 0.56717504 0.96764738 0.11024709 0.64656289]\n",
      "  [0.09751665 0.8437646  0.98192091 0.93329245 0.50751633]]]\n",
      "[[[1.21173541 1.91276754 1.89231243 1.18356038 1.32090756]\n",
      "  [1.66478175 1.26007279 1.99116583 1.74621805 1.38482048]\n",
      "  [1.59797575 1.82063408 1.9880698  1.87277494 1.78276818]]\n",
      "\n",
      " [[1.50729173 1.65366149 1.05781761 1.36482339 1.09283169]\n",
      "  [1.03768137 1.56717504 1.96764738 1.11024709 1.64656289]\n",
      "  [1.09751665 1.8437646  1.98192091 1.93329245 1.50751633]]]\n"
     ]
    }
   ],
   "source": [
    "print(a)\n",
    "print(d)"
   ]
  },
  {
   "cell_type": "markdown",
   "metadata": {},
   "source": [
    "d has the elements from a plus 1.\n",
    "\n",
    "12. Multiply a and c. Assign the result to e.\n",
    "\n",
    "13. Does e equal to a? Why or why not?"
   ]
  },
  {
   "cell_type": "code",
   "execution_count": 33,
   "metadata": {},
   "outputs": [
    {
     "data": {
      "text/plain": [
       "array([[[ True,  True,  True,  True,  True],\n",
       "        [ True,  True,  True,  True,  True],\n",
       "        [ True,  True,  True,  True,  True]],\n",
       "\n",
       "       [[ True,  True,  True,  True,  True],\n",
       "        [ True,  True,  True,  True,  True],\n",
       "        [ True,  True,  True,  True,  True]]])"
      ]
     },
     "execution_count": 33,
     "metadata": {},
     "output_type": "execute_result"
    }
   ],
   "source": [
    "e = np.multiply(a, c)\n",
    "a == e\n"
   ]
  },
  {
   "cell_type": "markdown",
   "metadata": {},
   "source": [
    "14. Identify the max, min, and mean values in d. Assign those values to variables d_max, d_min and d_mean."
   ]
  },
  {
   "cell_type": "code",
   "execution_count": 36,
   "metadata": {},
   "outputs": [],
   "source": [
    "d_max = np.max(d)\n",
    "d_min = np.min(d)\n",
    "d_mean = np.mean(d)"
   ]
  },
  {
   "cell_type": "markdown",
   "metadata": {},
   "source": [
    "15. Now we want to label the values in d. First create an empty array f with the same shape (i.e. 2x3x5) as d using np.empty."
   ]
  },
  {
   "cell_type": "code",
   "execution_count": 37,
   "metadata": {},
   "outputs": [
    {
     "data": {
      "text/plain": [
       "array([[[0.21173541, 0.91276754, 0.89231243, 0.18356038, 0.32090756],\n",
       "        [0.66478175, 0.26007279, 0.99116583, 0.74621805, 0.38482048],\n",
       "        [0.59797575, 0.82063408, 0.9880698 , 0.87277494, 0.78276818]],\n",
       "\n",
       "       [[0.50729173, 0.65366149, 0.05781761, 0.36482339, 0.09283169],\n",
       "        [0.03768137, 0.56717504, 0.96764738, 0.11024709, 0.64656289],\n",
       "        [0.09751665, 0.8437646 , 0.98192091, 0.93329245, 0.50751633]]])"
      ]
     },
     "execution_count": 37,
     "metadata": {},
     "output_type": "execute_result"
    }
   ],
   "source": [
    "f = np.empty((2, 3, 5))\n",
    "f"
   ]
  },
  {
   "cell_type": "markdown",
   "metadata": {},
   "source": [
    "16. Populate the values in f.\n",
    "For each value in d, if it's larger than d_min but smaller than d_mean, assign 25 to the corresponding value in f. If a value in d is larger than d_mean but smaller than d_max, assign 75 to the corresponding value in f. If a value equals to d_mean, assign 50 to the corresponding value in f. Assign 0 to the corresponding value(s) in f for d_min in d. Assign 100 to the corresponding value(s) in f for d_max in d. In the end, f should have only the following values: 0, 25, 50, 75, and 100."
   ]
  },
  {
   "cell_type": "code",
   "execution_count": 38,
   "metadata": {},
   "outputs": [
    {
     "data": {
      "text/plain": [
       "array([[[ 25.,  75.,  75.,  25.,  25.],\n",
       "        [ 75.,  25., 100.,  75.,  25.],\n",
       "        [ 75.,  75.,  75.,  75.,  75.]],\n",
       "\n",
       "       [[ 25.,  75.,  25.,  25.,  25.],\n",
       "        [  0.,  75.,  75.,  25.,  75.],\n",
       "        [ 25.,  75.,  75.,  75.,  25.]]])"
      ]
     },
     "execution_count": 38,
     "metadata": {},
     "output_type": "execute_result"
    }
   ],
   "source": [
    "for i in range(2) :\n",
    "    for j in range(3) :\n",
    "        for k in range(5) :\n",
    "            d_ijk = d[i, j, k]\n",
    "            if d_ijk == d_min :\n",
    "                f[i, j, k] = 0\n",
    "            elif d_ijk < d_mean :\n",
    "                f[i, j, k] = 25\n",
    "            elif d_ijk == d_mean :\n",
    "                f[i, j, k] = 50\n",
    "            elif d_ijk < d_max :\n",
    "                f[i, j, k] = 75\n",
    "            else :\n",
    "                f[i, j, k] = 100\n",
    "f"
   ]
  },
  {
   "cell_type": "markdown",
   "metadata": {},
   "source": [
    "17. Print d and f. Do you have your expected f?"
   ]
  },
  {
   "cell_type": "code",
   "execution_count": 39,
   "metadata": {},
   "outputs": [
    {
     "name": "stdout",
     "output_type": "stream",
     "text": [
      "[[[1.21173541 1.91276754 1.89231243 1.18356038 1.32090756]\n",
      "  [1.66478175 1.26007279 1.99116583 1.74621805 1.38482048]\n",
      "  [1.59797575 1.82063408 1.9880698  1.87277494 1.78276818]]\n",
      "\n",
      " [[1.50729173 1.65366149 1.05781761 1.36482339 1.09283169]\n",
      "  [1.03768137 1.56717504 1.96764738 1.11024709 1.64656289]\n",
      "  [1.09751665 1.8437646  1.98192091 1.93329245 1.50751633]]]\n",
      "[[[ 25.  75.  75.  25.  25.]\n",
      "  [ 75.  25. 100.  75.  25.]\n",
      "  [ 75.  75.  75.  75.  75.]]\n",
      "\n",
      " [[ 25.  75.  25.  25.  25.]\n",
      "  [  0.  75.  75.  25.  75.]\n",
      "  [ 25.  75.  75.  75.  25.]]]\n"
     ]
    }
   ],
   "source": [
    "print(d)\n",
    "print(f)"
   ]
  },
  {
   "cell_type": "markdown",
   "metadata": {},
   "source": [
    "18. Bonus question: instead of using numbers (i.e. 0, 25, 50, 75, and 100), use string values (\"A\", \"B\", \"C\", \"D\", and \"E\") to label the array elements. For the example above, the expected result is:"
   ]
  },
  {
   "cell_type": "code",
   "execution_count": 40,
   "metadata": {},
   "outputs": [],
   "source": [
    "g = np.empty((2, 3, 5), dtype = str)"
   ]
  },
  {
   "cell_type": "code",
   "execution_count": 41,
   "metadata": {},
   "outputs": [],
   "source": [
    "for i in range(2) :\n",
    "    for j in range(3) :\n",
    "        for k in range(5) :\n",
    "            d_ijk = d[i, j, k]\n",
    "            if d_ijk == d_min :\n",
    "                g[i, j, k] = 'A'\n",
    "            elif d_ijk < d_mean :\n",
    "                g[i, j, k] = 'B'\n",
    "            elif d_ijk == d_mean :\n",
    "                g[i, j, k] = 'C'\n",
    "            elif d_ijk < d_max :\n",
    "                g[i, j, k] = 'D'\n",
    "            else :\n",
    "                g[i, j, k] = 'F'"
   ]
  },
  {
   "cell_type": "code",
   "execution_count": 42,
   "metadata": {},
   "outputs": [
    {
     "data": {
      "text/plain": [
       "array([[['B', 'D', 'D', 'B', 'B'],\n",
       "        ['D', 'B', 'F', 'D', 'B'],\n",
       "        ['D', 'D', 'D', 'D', 'D']],\n",
       "\n",
       "       [['B', 'D', 'B', 'B', 'B'],\n",
       "        ['A', 'D', 'D', 'B', 'D'],\n",
       "        ['B', 'D', 'D', 'D', 'B']]], dtype='<U1')"
      ]
     },
     "execution_count": 42,
     "metadata": {},
     "output_type": "execute_result"
    }
   ],
   "source": [
    "g"
   ]
  }
 ],
 "metadata": {
  "kernelspec": {
   "display_name": "Python 3.9.12 ('base')",
   "language": "python",
   "name": "python3"
  },
  "language_info": {
   "codemirror_mode": {
    "name": "ipython",
    "version": 3
   },
   "file_extension": ".py",
   "mimetype": "text/x-python",
   "name": "python",
   "nbconvert_exporter": "python",
   "pygments_lexer": "ipython3",
   "version": "3.9.12"
  },
  "orig_nbformat": 4,
  "vscode": {
   "interpreter": {
    "hash": "d17122d79747f4b383b2c6abff0c2edbb0c56782714054fbb4f5a4e0962ae7a0"
   }
  }
 },
 "nbformat": 4,
 "nbformat_minor": 2
}
