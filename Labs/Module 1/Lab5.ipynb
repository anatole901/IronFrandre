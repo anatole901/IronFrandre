{
 "cells": [
  {
   "cell_type": "markdown",
   "metadata": {},
   "source": [
    "Lab Dicts, sets and tuples Challenge 1"
   ]
  },
  {
   "cell_type": "markdown",
   "metadata": {},
   "source": [
    "Do you know you can create tuples with only one element?"
   ]
  },
  {
   "cell_type": "code",
   "execution_count": 3,
   "metadata": {},
   "outputs": [
    {
     "data": {
      "text/plain": [
       "tuple"
      ]
     },
     "execution_count": 3,
     "metadata": {},
     "output_type": "execute_result"
    }
   ],
   "source": [
    "x = (\"I\",)\n",
    "type(x)"
   ]
  },
  {
   "cell_type": "markdown",
   "metadata": {},
   "source": [
    "Now try to append the following elements to tup.\n",
    "How about re-assign a new value to an existing tuple?\n",
    "Tuples are immutable."
   ]
  },
  {
   "cell_type": "markdown",
   "metadata": {},
   "source": [
    "Split tup into tup1 and tup2 with 4 elements in each."
   ]
  },
  {
   "cell_type": "code",
   "execution_count": 5,
   "metadata": {},
   "outputs": [
    {
     "name": "stdout",
     "output_type": "stream",
     "text": [
      "('h', 'a', 'c', 'k')\n"
     ]
    }
   ],
   "source": [
    "tup = (\"I\", \"r\", \"o\", \"n\", \"h\", \"a\", \"c\", \"k\")\n",
    "tup1 = (tup[0], tup[1], tup[2], tup[3])\n",
    "tup2 = (tup[-4], tup[-3], tup[-2], tup[-1])\n",
    "print(tup2)"
   ]
  },
  {
   "cell_type": "markdown",
   "metadata": {},
   "source": [
    "Add tup1 and tup2 into tup3 using the + operator.\n",
    "Then print tup3 and check if tup3 equals to tup."
   ]
  },
  {
   "cell_type": "code",
   "execution_count": 6,
   "metadata": {},
   "outputs": [
    {
     "name": "stdout",
     "output_type": "stream",
     "text": [
      "True\n"
     ]
    }
   ],
   "source": [
    "tup3 = tup1 + tup2\n",
    "print(tup3==tup)"
   ]
  },
  {
   "cell_type": "markdown",
   "metadata": {},
   "source": [
    "Count the number of elements in tup1 and tup2. Then add the two counts together and check if the sum is the same as the number of elements in tup3."
   ]
  },
  {
   "cell_type": "code",
   "execution_count": 8,
   "metadata": {},
   "outputs": [
    {
     "name": "stdout",
     "output_type": "stream",
     "text": [
      "4\n",
      "True\n"
     ]
    }
   ],
   "source": [
    "print(len(tup1))\n",
    "print(len(tup1) + len(tup2) == len(tup3))"
   ]
  },
  {
   "cell_type": "markdown",
   "metadata": {},
   "source": [
    "What is the index number of \"h\" in tup3?"
   ]
  },
  {
   "cell_type": "code",
   "execution_count": 11,
   "metadata": {},
   "outputs": [
    {
     "name": "stdout",
     "output_type": "stream",
     "text": [
      "4\n"
     ]
    }
   ],
   "source": [
    "print(tup3.index(\"h\"))"
   ]
  },
  {
   "cell_type": "markdown",
   "metadata": {},
   "source": [
    "Now, use a FOR loop to check whether each letter in the following list is present in tup3:"
   ]
  },
  {
   "cell_type": "code",
   "execution_count": 12,
   "metadata": {},
   "outputs": [
    {
     "name": "stdout",
     "output_type": "stream",
     "text": [
      "True\n",
      "False\n",
      "True\n",
      "False\n",
      "False\n"
     ]
    }
   ],
   "source": [
    "letters = [\"a\", \"b\", \"c\", \"d\", \"e\"]\n",
    "for item in letters : print(item in tup3)"
   ]
  },
  {
   "cell_type": "markdown",
   "metadata": {},
   "source": [
    "How many times does each letter in letters appear in tup3?"
   ]
  },
  {
   "cell_type": "code",
   "execution_count": 14,
   "metadata": {},
   "outputs": [
    {
     "name": "stdout",
     "output_type": "stream",
     "text": [
      "a appears 1 times in tup3.\n",
      "b appears 0 times in tup3.\n",
      "c appears 1 times in tup3.\n",
      "d appears 0 times in tup3.\n",
      "e appears 0 times in tup3.\n"
     ]
    }
   ],
   "source": [
    "for item in letters :\n",
    "    num = 0\n",
    "    for t in tup3 :\n",
    "        if item == t : num += 1\n",
    "    print(item, \"appears\", num, \"times in tup3.\")"
   ]
  },
  {
   "cell_type": "markdown",
   "metadata": {},
   "source": [
    "Challenge 2 : Sets"
   ]
  },
  {
   "cell_type": "markdown",
   "metadata": {},
   "source": [
    "In the cell below, create a list named sample_list_1 with 80 random values."
   ]
  },
  {
   "cell_type": "code",
   "execution_count": 1,
   "metadata": {},
   "outputs": [
    {
     "name": "stdout",
     "output_type": "stream",
     "text": [
      "[39, 2, 69, 59, 11, 62, 98, 24, 30, 66, 93, 90, 29, 54, 31, 63, 87, 78, 21, 20, 27, 43, 64, 89, 68, 82, 55, 77, 97, 61, 92, 76, 88, 46, 6, 70, 79, 33, 95, 42, 48, 65, 53, 1, 0, 58, 36, 85, 37, 35, 60, 13, 18, 51, 52, 80, 67, 17, 40, 38, 100, 83, 71, 10, 3, 50, 72, 12, 94, 9, 96, 56, 32, 74, 15, 44, 26, 45, 4, 19]\n"
     ]
    }
   ],
   "source": [
    "import random\n",
    "sample_list_1 = random.sample(range(101), 80)\n",
    "print(sample_list_1)"
   ]
  },
  {
   "cell_type": "markdown",
   "metadata": {},
   "source": [
    "Convert sample_list_1 to a set called set1. Print the length of the set. Is its length still 80?"
   ]
  },
  {
   "cell_type": "code",
   "execution_count": 2,
   "metadata": {},
   "outputs": [
    {
     "name": "stdout",
     "output_type": "stream",
     "text": [
      "80\n"
     ]
    }
   ],
   "source": [
    "set1 = set()\n",
    "for i in sample_list_1 : set1.add(i)\n",
    "print(len(set1))"
   ]
  },
  {
   "cell_type": "markdown",
   "metadata": {},
   "source": [
    "Create another list named sample_list_2 with 80 random values."
   ]
  },
  {
   "cell_type": "code",
   "execution_count": 3,
   "metadata": {},
   "outputs": [
    {
     "name": "stdout",
     "output_type": "stream",
     "text": [
      "[87, 86, 98, 39, 77, 21, 88, 80, 24, 98, 84, 21, 64, 28, 27, 62, 29, 37, 99, 61, 82, 8, 59, 79, 55, 72, 23, 37, 52, 78, 8, 15, 78, 54, 34, 60, 72, 29, 12, 24, 20, 13, 14, 90, 87, 89, 10, 49, 72, 49, 5, 98, 92, 46, 11, 1, 0, 35, 24, 89, 29, 9, 54, 44, 4, 82, 20, 100, 25, 26, 86, 41, 69, 90, 73, 24, 6, 41, 15, 40]\n"
     ]
    }
   ],
   "source": [
    "sample_list_2 = []\n",
    "for i in range(80) : sample_list_2.append(random.randrange(101))\n",
    "print(sample_list_2)"
   ]
  },
  {
   "cell_type": "markdown",
   "metadata": {},
   "source": [
    "Convert sample_list_2 to a set called set2. Print the length of the set. Is its length still 80?"
   ]
  },
  {
   "cell_type": "code",
   "execution_count": 4,
   "metadata": {},
   "outputs": [
    {
     "name": "stdout",
     "output_type": "stream",
     "text": [
      "57\n"
     ]
    }
   ],
   "source": [
    "set2 = set()\n",
    "for i in sample_list_2 : set2.add(i)\n",
    "print(len(set2))"
   ]
  },
  {
   "cell_type": "markdown",
   "metadata": {},
   "source": [
    "Identify the elements present in set1 but not in set2. Assign the elements to a new set named set3.\n",
    "Identify the elements present in set2 but not in set1. Assign the elements to a new set named set4."
   ]
  },
  {
   "cell_type": "code",
   "execution_count": 5,
   "metadata": {},
   "outputs": [],
   "source": [
    "set3 = set1 - set2\n",
    "set4 = set2 - set1"
   ]
  },
  {
   "cell_type": "markdown",
   "metadata": {},
   "source": [
    "Now Identify the elements shared between set1 and set2. Assign the elements to a new set named set5."
   ]
  },
  {
   "cell_type": "code",
   "execution_count": 6,
   "metadata": {},
   "outputs": [],
   "source": [
    "set5 = set1.intersection(set2)"
   ]
  },
  {
   "cell_type": "markdown",
   "metadata": {},
   "source": [
    "What is the relationship among the following values:\n",
    "len(set1)\n",
    "len(set2)\n",
    "len(set3)\n",
    "len(set4)\n",
    "len(set5)\n",
    "\n",
    "len(set1) >= len(set2)\n",
    "len(set1) >= len(set3)\n",
    "len(set2) >= len(set4)\n",
    "len(set2) >= len(set5)"
   ]
  },
  {
   "cell_type": "code",
   "execution_count": 7,
   "metadata": {},
   "outputs": [
    {
     "name": "stdout",
     "output_type": "stream",
     "text": [
      "True\n"
     ]
    }
   ],
   "source": [
    "print(len(set1) >= len(set2) and len(set1) >= len(set3) and len(set2) >= len(set4) and len(set2) >= len(set5))"
   ]
  },
  {
   "cell_type": "markdown",
   "metadata": {},
   "source": [
    "Create an empty set called set6.\n",
    "Add set3 and set5 to set6 using the Python Set update method."
   ]
  },
  {
   "cell_type": "code",
   "execution_count": 8,
   "metadata": {},
   "outputs": [],
   "source": [
    "set6 = set()\n",
    "set6.update(set3)\n",
    "set6.update(set5)"
   ]
  },
  {
   "cell_type": "markdown",
   "metadata": {},
   "source": [
    "Check if set1 and set6 are equal."
   ]
  },
  {
   "cell_type": "code",
   "execution_count": 9,
   "metadata": {},
   "outputs": [
    {
     "name": "stdout",
     "output_type": "stream",
     "text": [
      "True\n"
     ]
    }
   ],
   "source": [
    "print(set1 == set6)"
   ]
  },
  {
   "cell_type": "markdown",
   "metadata": {},
   "source": [
    "Check if set1 contains set2 using the Python Set issubset method. Then check if set1 contains set3.*"
   ]
  },
  {
   "cell_type": "code",
   "execution_count": 10,
   "metadata": {},
   "outputs": [
    {
     "name": "stdout",
     "output_type": "stream",
     "text": [
      "False\n",
      "True\n"
     ]
    }
   ],
   "source": [
    "print(set2.issubset(set1))\n",
    "print(set3.issubset(set1))"
   ]
  },
  {
   "cell_type": "markdown",
   "metadata": {},
   "source": [
    "Using the Python Set union method, aggregate set3, set4, and set5. Then aggregate set1 and set2.\n",
    "Check if the aggregated values are equal."
   ]
  },
  {
   "cell_type": "code",
   "execution_count": 11,
   "metadata": {},
   "outputs": [
    {
     "name": "stdout",
     "output_type": "stream",
     "text": [
      "True\n"
     ]
    }
   ],
   "source": [
    "print(set3.union(set4.union(set5)) == set1.union(set2))"
   ]
  },
  {
   "cell_type": "markdown",
   "metadata": {},
   "source": [
    "Using the pop method, remove the first element from set1."
   ]
  },
  {
   "cell_type": "code",
   "execution_count": 14,
   "metadata": {},
   "outputs": [
    {
     "data": {
      "text/plain": [
       "0"
      ]
     },
     "execution_count": 14,
     "metadata": {},
     "output_type": "execute_result"
    }
   ],
   "source": [
    "set1.pop()"
   ]
  },
  {
   "cell_type": "markdown",
   "metadata": {},
   "source": [
    "Remove every element in the following list from set1 if they are present in the set. Print the remaining elements.\n",
    "list_to_remove = [1, 9, 11, 19, 21, 29, 31, 39, 41, 49, 51, 59, 61, 69, 71, 79, 81, 89, 91, 99]"
   ]
  },
  {
   "cell_type": "code",
   "execution_count": 24,
   "metadata": {},
   "outputs": [
    {
     "name": "stdout",
     "output_type": "stream",
     "text": [
      "{2, 3, 4, 6, 10, 12, 13, 15, 17, 18, 20, 24, 26, 27, 30, 32, 33, 35, 36, 37, 38, 40, 42, 43, 44, 45, 46, 48, 50, 52, 53, 54, 55, 56, 58, 60, 62, 63, 64, 65, 66, 67, 68, 70, 72, 74, 76, 77, 78, 80, 82, 83, 85, 87, 88, 90, 92, 93, 94, 95, 96, 97, 98, 100}\n"
     ]
    }
   ],
   "source": [
    "list_to_remove = [1, 9, 11, 19, 21, 29, 31, 39, 41, 49, 51, 59, 61, 69, 71, 79, 81, 89, 91, 99]\n",
    "for i in list_to_remove :\n",
    "    if i in set1 : set1.remove(i)\n",
    "print(set1)"
   ]
  }
 ],
 "metadata": {
  "kernelspec": {
   "display_name": "Python 3.9.12 ('base')",
   "language": "python",
   "name": "python3"
  },
  "language_info": {
   "codemirror_mode": {
    "name": "ipython",
    "version": 3
   },
   "file_extension": ".py",
   "mimetype": "text/x-python",
   "name": "python",
   "nbconvert_exporter": "python",
   "pygments_lexer": "ipython3",
   "version": "3.9.12"
  },
  "orig_nbformat": 4,
  "vscode": {
   "interpreter": {
    "hash": "d17122d79747f4b383b2c6abff0c2edbb0c56782714054fbb4f5a4e0962ae7a0"
   }
  }
 },
 "nbformat": 4,
 "nbformat_minor": 2
}
