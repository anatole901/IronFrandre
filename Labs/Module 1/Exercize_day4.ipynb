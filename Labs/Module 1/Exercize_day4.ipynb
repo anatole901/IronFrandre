{
 "cells": [
  {
   "cell_type": "markdown",
   "metadata": {},
   "source": [
    "Exercize day 4"
   ]
  },
  {
   "cell_type": "markdown",
   "metadata": {},
   "source": [
    "Write a program to accept the price of a bike and display the road tax to be paid according to the following criteria :    \n",
    "Price                                  Tax ​\n",
    "> 100000                                15 % ​\n",
    "> 50000 and <= 100000      10% ​\n",
    "<= 50000                                5%​\n"
   ]
  },
  {
   "cell_type": "code",
   "execution_count": 2,
   "metadata": {},
   "outputs": [
    {
     "name": "stdout",
     "output_type": "stream",
     "text": [
      "500.0\n"
     ]
    }
   ],
   "source": [
    "def tax_from_price(price) :\n",
    "    if price <= 50000 :\n",
    "        tax = price*0.05\n",
    "    elif price <= 100000 :\n",
    "        tax = price*0.1\n",
    "    else :\n",
    "        tax = price*0.15\n",
    "    return tax\n",
    "\n",
    "print(tax_from_price(10000))"
   ]
  },
  {
   "cell_type": "markdown",
   "metadata": {},
   "source": [
    "Given the array of numbers , write a program to move all zeros to the end keeping  the relative order of the non-zero elements.\n"
   ]
  },
  {
   "cell_type": "code",
   "execution_count": 3,
   "metadata": {},
   "outputs": [
    {
     "name": "stdout",
     "output_type": "stream",
     "text": [
      "[1, 2, 3, 4, 5, 0, 0, 0]\n"
     ]
    }
   ],
   "source": [
    "def move_zeros_to_end(list) :\n",
    "    l=[]\n",
    "    num_zeros = 0\n",
    "    for i in range(len(list)) :\n",
    "        if list[i] == 0 :\n",
    "            num_zeros += 1\n",
    "        else :\n",
    "            l.append(list[i])\n",
    "    for j in range(num_zeros) :\n",
    "        l.append(0)\n",
    "    return l\n",
    "\n",
    "print(move_zeros_to_end([0, 1, 2, 0, 3, 4, 0, 5]))"
   ]
  },
  {
   "cell_type": "markdown",
   "metadata": {},
   "source": [
    "Given two sentences, return an array that has the words that appear in one sentence and not the other and an array with the words in common."
   ]
  },
  {
   "cell_type": "code",
   "execution_count": 4,
   "metadata": {},
   "outputs": [
    {
     "name": "stdout",
     "output_type": "stream",
     "text": [
      "(['Francois'], ['hello', 'Anatole'], ['Hello', 'my', 'name', 'is'])\n"
     ]
    }
   ],
   "source": [
    "def compare (string1, string2) :\n",
    "    def remove_commas(string) :\n",
    "        return string[0:len(string)-1] if string[-1] in [',', ';', ':', '.', '?', '!'] else string\n",
    "    def remove_duplicates(list) :\n",
    "        l=[]\n",
    "        for i in range(len(list)) :\n",
    "            if list[i] not in l : l.append(list[i])\n",
    "        return l\n",
    "    ls1 = remove_duplicates([remove_commas(word) for word in string1.split(' ')])\n",
    "    ls2 = remove_duplicates([remove_commas(word) for word in string2.split(' ')])\n",
    "    s1_minus_s2 = [word for word in ls1 if word not in ls2]\n",
    "    s2_minus_s1 = [word for word in ls2 if word not in ls1]\n",
    "    s1_inter_s2 = [word for word in ls1 if word in ls2]\n",
    "    return (s1_minus_s2, s2_minus_s1, s1_inter_s2)\n",
    "\n",
    "print(compare('Hello, my name is Francois.', 'Hello, hello, my name is Anatole.'))\n",
    "    "
   ]
  },
  {
   "cell_type": "code",
   "execution_count": 5,
   "metadata": {},
   "outputs": [
    {
     "name": "stdout",
     "output_type": "stream",
     "text": [
      "[1, 2]\n"
     ]
    }
   ],
   "source": [
    "def remove_duplicates(l) :\n",
    "        rl=[]\n",
    "        for i in range(len(l)) :\n",
    "            if l[i] not in rl :\n",
    "                rl.append(l[i])\n",
    "        return rl\n",
    "\n",
    "print(remove_duplicates([1, 2, 1]))"
   ]
  },
  {
   "cell_type": "markdown",
   "metadata": {},
   "source": [
    "Create the function that calculates the taxes: if the salary is greater than x then tax y1, if less or equal x then tax y2. Salary should be given as a number, taxes are kept in list but can be changed if the user wants. "
   ]
  },
  {
   "cell_type": "code",
   "execution_count": 1,
   "metadata": {},
   "outputs": [
    {
     "name": "stdout",
     "output_type": "stream",
     "text": [
      "750.0\n"
     ]
    }
   ],
   "source": [
    "def taxes (s, l) :\n",
    "    i = 0\n",
    "    while s > l[i][0] : \n",
    "        i += 1\n",
    "    return s*l[i][1]\n",
    "\n",
    "print(taxes(5000, [(1000, 0.1), (2000, 0.12), (5000, 0.15), (1000000000000, 0.2)]))"
   ]
  }
 ],
 "metadata": {
  "kernelspec": {
   "display_name": "Python 3.9.12 ('base')",
   "language": "python",
   "name": "python3"
  },
  "language_info": {
   "codemirror_mode": {
    "name": "ipython",
    "version": 3
   },
   "file_extension": ".py",
   "mimetype": "text/x-python",
   "name": "python",
   "nbconvert_exporter": "python",
   "pygments_lexer": "ipython3",
   "version": "3.9.12"
  },
  "orig_nbformat": 4,
  "vscode": {
   "interpreter": {
    "hash": "d17122d79747f4b383b2c6abff0c2edbb0c56782714054fbb4f5a4e0962ae7a0"
   }
  }
 },
 "nbformat": 4,
 "nbformat_minor": 2
}
