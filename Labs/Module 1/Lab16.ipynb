{
 "cells": [
  {
   "cell_type": "markdown",
   "metadata": {},
   "source": [
    "Lab 16 Web scraping\n",
    "\n",
    "Below are the libraries and modules you may need. requests, BeautifulSoup and pandas are already imported for you. If you prefer to use additional libraries feel free to do it."
   ]
  },
  {
   "cell_type": "code",
   "execution_count": 1,
   "metadata": {},
   "outputs": [],
   "source": [
    "import requests as re\n",
    "from bs4 import BeautifulSoup\n",
    "import pandas as pd"
   ]
  },
  {
   "cell_type": "markdown",
   "metadata": {},
   "source": [
    "Download, parse (using BeautifulSoup), and print the content from the Trending Developers page from GitHub:"
   ]
  },
  {
   "cell_type": "code",
   "execution_count": 3,
   "metadata": {},
   "outputs": [],
   "source": [
    "url = 'https://github.com/trending/developers'\n",
    "developers = BeautifulSoup(re.get(url).content, 'html.parser')"
   ]
  },
  {
   "cell_type": "code",
   "execution_count": 24,
   "metadata": {},
   "outputs": [],
   "source": [
    "sub_list = developers.find_all(\"h1\", class_ = 'h3 lh-condensed')"
   ]
  },
  {
   "cell_type": "code",
   "execution_count": 31,
   "metadata": {},
   "outputs": [
    {
     "data": {
      "text/plain": [
       "['Arthur Vickers',\n",
       " 'chencheng (云谦)',\n",
       " 'Nikita Sobolev',\n",
       " 'Li Wei',\n",
       " 'Elliana May',\n",
       " 'Bas Nijholt',\n",
       " 'Emil Ernerfeldt',\n",
       " 'Pedro Cuenca',\n",
       " 'Stephen Celis',\n",
       " 'Wangchong Zhou',\n",
       " 'Benjamin Pasero',\n",
       " '吴晟 Wu Sheng',\n",
       " 'Jonny Borges',\n",
       " 'Richard Hughes',\n",
       " 'Ammar Ahmed',\n",
       " 'Alex Rogozhnikov',\n",
       " 'Tobias Klauser',\n",
       " 'Stefan Prodan',\n",
       " 'Martin Aeschlimann',\n",
       " 'Steve Macenski',\n",
       " 'Natalie Weizenbaum',\n",
       " 'Zeeshan Ahmad',\n",
       " 'Adam Johnson',\n",
       " 'Christian Dietrich',\n",
       " 'Janosh Riebesell']"
      ]
     },
     "execution_count": 31,
     "metadata": {},
     "output_type": "execute_result"
    }
   ],
   "source": [
    "devs = [item.find('a').text.split('\\n')[1].strip() for item in sub_list]\n",
    "devs"
   ]
  }
 ],
 "metadata": {
  "kernelspec": {
   "display_name": "Python 3.9.13 ('base')",
   "language": "python",
   "name": "python3"
  },
  "language_info": {
   "codemirror_mode": {
    "name": "ipython",
    "version": 3
   },
   "file_extension": ".py",
   "mimetype": "text/x-python",
   "name": "python",
   "nbconvert_exporter": "python",
   "pygments_lexer": "ipython3",
   "version": "3.9.13"
  },
  "orig_nbformat": 4,
  "vscode": {
   "interpreter": {
    "hash": "d17122d79747f4b383b2c6abff0c2edbb0c56782714054fbb4f5a4e0962ae7a0"
   }
  }
 },
 "nbformat": 4,
 "nbformat_minor": 2
}
