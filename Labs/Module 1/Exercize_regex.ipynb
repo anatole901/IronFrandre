{
 "cells": [
  {
   "cell_type": "code",
   "execution_count": 32,
   "metadata": {},
   "outputs": [],
   "source": [
    "import re\n",
    "\n",
    "def find_mail(s) :\n",
    "    return [item.lstrip().rstrip() for item in re.findall('\\w+[@]\\w+[.]\\w+', s)]"
   ]
  },
  {
   "cell_type": "code",
   "execution_count": 33,
   "metadata": {},
   "outputs": [
    {
     "name": "stdout",
     "output_type": "stream",
     "text": [
      "['anatole901@yahoo.fr', 'bobleponge@gmail.com']\n"
     ]
    }
   ],
   "source": [
    "print(find_mail('mon adresse mail est anatole901@yahoo.fr. Une autre adresse est bobleponge@gmail.com.'))\n"
   ]
  },
  {
   "cell_type": "code",
   "execution_count": 36,
   "metadata": {},
   "outputs": [],
   "source": [
    "list_mail = find_mail(''.join(open(r'C:\\Users\\anato\\Documents\\Labs\\Emails.txt').readlines()))"
   ]
  },
  {
   "cell_type": "code",
   "execution_count": null,
   "metadata": {},
   "outputs": [],
   "source": []
  }
 ],
 "metadata": {
  "kernelspec": {
   "display_name": "Python 3.9.12 ('base')",
   "language": "python",
   "name": "python3"
  },
  "language_info": {
   "codemirror_mode": {
    "name": "ipython",
    "version": 3
   },
   "file_extension": ".py",
   "mimetype": "text/x-python",
   "name": "python",
   "nbconvert_exporter": "python",
   "pygments_lexer": "ipython3",
   "version": "3.9.12"
  },
  "orig_nbformat": 4,
  "vscode": {
   "interpreter": {
    "hash": "d17122d79747f4b383b2c6abff0c2edbb0c56782714054fbb4f5a4e0962ae7a0"
   }
  }
 },
 "nbformat": 4,
 "nbformat_minor": 2
}
