{
 "cells": [
  {
   "cell_type": "markdown",
   "metadata": {},
   "source": [
    "Lab 8 Conditionnal statements\n",
    "\n",
    "1. Write a Python program to find those numbers which are divisible by 3 and are between 1000 and 2500 (both included)."
   ]
  },
  {
   "cell_type": "code",
   "execution_count": 2,
   "metadata": {},
   "outputs": [],
   "source": [
    "l = []\n",
    "for i in range(1000, 2501) :\n",
    "    if i%3 == 0 :\n",
    "        l.append(i)"
   ]
  },
  {
   "cell_type": "markdown",
   "metadata": {},
   "source": [
    "2. Write a Python program to convert month name to a number of days in this months."
   ]
  },
  {
   "cell_type": "code",
   "execution_count": 4,
   "metadata": {},
   "outputs": [],
   "source": [
    "def days_in_month(month) :\n",
    "    if month.lower() in ['january', 'march', 'may', 'july', 'august', 'october', 'december'] :\n",
    "        return 31\n",
    "    elif month.lower() in ['april', 'june', 'september', 'november'] :\n",
    "        return 30\n",
    "    elif month.lower() == 'february' :\n",
    "        return 28\n",
    "    else :\n",
    "        return \"Not a month.\""
   ]
  },
  {
   "cell_type": "markdown",
   "metadata": {},
   "source": [
    "3. Write a Python program that accepts a word from the user and reverse it."
   ]
  },
  {
   "cell_type": "code",
   "execution_count": 7,
   "metadata": {},
   "outputs": [
    {
     "name": "stdout",
     "output_type": "stream",
     "text": [
      "olleh\n"
     ]
    }
   ],
   "source": [
    "def rev(s) :\n",
    "    res = ''\n",
    "    for i in range(len(s)) :\n",
    "        res = res+s[-i-1]\n",
    "    return res\n",
    "\n",
    "print(rev('hello'))"
   ]
  },
  {
   "cell_type": "markdown",
   "metadata": {},
   "source": [
    "4. Write a Python program which iterates the integers from 1 to 50. For multiples of three print \"Iron\" instead of the number and for the multiples of five print \"Hack\". For numbers which are multiples of both three and five print \"Ironhack\"."
   ]
  },
  {
   "cell_type": "code",
   "execution_count": 9,
   "metadata": {},
   "outputs": [
    {
     "name": "stdout",
     "output_type": "stream",
     "text": [
      "1 2 Iron 4 hack Iron 7 8 Iron hack 11 Iron 13 14 Ironhack 16 17 Iron 19 hack Iron 22 23 Iron hack 26 Iron 28 29 Ironhack 31 32 Iron 34 hack Iron 37 38 Iron hack 41 Iron 43 44 Ironhack 46 47 Iron 49 hack "
     ]
    }
   ],
   "source": [
    "for i in range(1, 51) :\n",
    "    if i%15 == 0 :\n",
    "        print('Ironhack', end =' ')\n",
    "    elif i%3 == 0 :\n",
    "        print('Iron', end =' ')\n",
    "    elif i%5 == 0 :\n",
    "        print('hack', end =' ')\n",
    "    else :\n",
    "        print(i, end =' ')"
   ]
  },
  {
   "cell_type": "markdown",
   "metadata": {},
   "source": [
    "5. A leap year is a calendar year containing an additional day added to keep the calendar year synchronized with the astronomical or seasonal year. In the Gregorian calendar, each leap year has 366 days instead of 365, by extending February to 29 days rather than the common 28. These extra days occur in years which are multiples of four (with the exception of centennial years not divisible by 400). Write a Python program, which asks for a year and calculates, if this year is a leap year or not."
   ]
  },
  {
   "cell_type": "code",
   "execution_count": 10,
   "metadata": {},
   "outputs": [],
   "source": [
    "def is_calendar(year) :\n",
    "    if year%400 == 0 :\n",
    "        return True\n",
    "    elif year%100 == 0 :\n",
    "        return False\n",
    "    elif year%4 == 0 :\n",
    "        return True\n",
    "    else :\n",
    "        return False"
   ]
  },
  {
   "cell_type": "markdown",
   "metadata": {},
   "source": [
    "6. Body mass index (BMI) is a value derived from the mass (weight) and height of a person. The BMI is defined as the body mass divided by the square of the body height, and is universally expressed in units of kg/m2, resulting from mass in kilograms and height in metres. Write a program, which asks for the length and the weight of a person and returns an evaluation string according to the following table:"
   ]
  },
  {
   "cell_type": "code",
   "execution_count": 11,
   "metadata": {},
   "outputs": [],
   "source": [
    "def how_fit (h, m) :\n",
    "    bmi = h/(m**2)\n",
    "    if bmi < 15 : return 'Very seeverely underweight'\n",
    "    elif bmi < 16.5 : return 'Severely underweight'\n",
    "    elif bmi < 18.5 : return 'Underweight'\n",
    "    elif bmi < 25 : return 'Normal'\n",
    "    elif bmi < 30 : return 'Overweight'\n",
    "    elif bmi < 35 : return 'Moderately obese'\n",
    "    elif bmi < 40 : return 'Severely obese'\n",
    "    elif bmi < 45 : return 'Very severely obese'\n",
    "    elif bmi < 50 : return 'Morbidly obese'\n",
    "    elif bmi < 60 : return 'Super obese'\n",
    "    else : return 'Hyper obese'"
   ]
  }
 ],
 "metadata": {
  "kernelspec": {
   "display_name": "Python 3.9.12 ('base')",
   "language": "python",
   "name": "python3"
  },
  "language_info": {
   "codemirror_mode": {
    "name": "ipython",
    "version": 3
   },
   "file_extension": ".py",
   "mimetype": "text/x-python",
   "name": "python",
   "nbconvert_exporter": "python",
   "pygments_lexer": "ipython3",
   "version": "3.9.12"
  },
  "orig_nbformat": 4,
  "vscode": {
   "interpreter": {
    "hash": "d17122d79747f4b383b2c6abff0c2edbb0c56782714054fbb4f5a4e0962ae7a0"
   }
  }
 },
 "nbformat": 4,
 "nbformat_minor": 2
}
