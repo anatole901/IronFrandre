{
 "cells": [
  {
   "cell_type": "markdown",
   "metadata": {},
   "source": [
    "Lab 10 : Functionnal programming"
   ]
  },
  {
   "cell_type": "markdown",
   "metadata": {},
   "source": [
    "challenge 1\n",
    "Consider an array/list of sheep where some sheep may be missing from their place. We need a function that counts the number of sheep present in the array (true means present)."
   ]
  },
  {
   "cell_type": "code",
   "execution_count": 4,
   "metadata": {},
   "outputs": [
    {
     "name": "stdout",
     "output_type": "stream",
     "text": [
      "17\n"
     ]
    }
   ],
   "source": [
    "def sheep_count(l) :\n",
    "    c = 0\n",
    "    for i in range(len(l)) :\n",
    "        if l[i] == True :\n",
    "            c += 1\n",
    "    return c\n",
    "\n",
    "print(sheep_count([True,  True,  True,  False,\n",
    "  True,  True,  True,  True ,\n",
    "  True,  False, True,  False,\n",
    "  True,  False, False, True ,\n",
    "  True,  True,  True,  True ,\n",
    "  False, False, True,  True]))"
   ]
  },
  {
   "cell_type": "markdown",
   "metadata": {},
   "source": [
    "Challenge 2\n",
    "\n",
    "Take an array and remove every second element from the array. Always keep the first element and start removing with the next element."
   ]
  },
  {
   "cell_type": "code",
   "execution_count": 6,
   "metadata": {},
   "outputs": [
    {
     "name": "stdout",
     "output_type": "stream",
     "text": [
      "[0, 2]\n"
     ]
    }
   ],
   "source": [
    "def rem_evry_2nd(l) :\n",
    "    result =[]\n",
    "    for i in range(len(l)//2) :\n",
    "        result.append(l[2*i])\n",
    "    if len(l)%2 == 1 :\n",
    "        result.append(l[-1])\n",
    "    return result\n",
    "\n",
    "print(rem_evry_2nd([0, 1, 2]))"
   ]
  },
  {
   "cell_type": "markdown",
   "metadata": {},
   "source": [
    "Challenge 3\n",
    "\n",
    "Convert number to reversed array of digits\n",
    "Given a random non-negative number, you have to return the digits of this number within an array in reverse order."
   ]
  },
  {
   "cell_type": "code",
   "execution_count": 9,
   "metadata": {},
   "outputs": [
    {
     "name": "stdout",
     "output_type": "stream",
     "text": [
      "[1, 8, 6, 5, 3]\n"
     ]
    }
   ],
   "source": [
    "def rev_digits(n) :\n",
    "    l=[]\n",
    "    str_n = str(n)\n",
    "    for i in range(len(str_n)) :\n",
    "        l.append(int(str_n[-i-1]))\n",
    "    return l\n",
    "\n",
    "print(rev_digits(35681))"
   ]
  },
  {
   "cell_type": "markdown",
   "metadata": {},
   "source": [
    "Challenge 4\n",
    "\n",
    "Welcome. In this kata, you are asked to square every digit of a number and concatenate them.\n",
    "\n",
    "For example, if we run 9119 through the function, 811181 will come out, because 92 is 81 and 12 is 1.\n",
    "\n",
    "Note: The function accepts an integer and returns an integer"
   ]
  },
  {
   "cell_type": "code",
   "execution_count": 15,
   "metadata": {},
   "outputs": [
    {
     "name": "stdout",
     "output_type": "stream",
     "text": [
      "811181\n"
     ]
    }
   ],
   "source": [
    "def square_digits(n) :\n",
    "    str_n = str(n)\n",
    "    str_square = [str(int(i)**2) for i in str_n]\n",
    "    return ''.join(str_square)\n",
    "\n",
    "print(square_digits(9119))"
   ]
  },
  {
   "cell_type": "markdown",
   "metadata": {},
   "source": [
    "Challenge 5\n",
    "\n",
    "We need a method in the List Class that may count specific digits from a given list of integers. This marked digits will be given in a second list. The method .count_spec_digits()/.countSpecDigits() will accept two arguments, a list of an uncertain amount of integers integers_lists/integersLists (and of an uncertain amount of digits, too) and a second list, digits_list/digitsList that has the specific digits to count which length cannot be be longer than 10 (It's obvious, we've got ten digits). The method will output a list of tuples, each tuple having two elements, the first one will be a digit to count, and second one, its corresponding total frequency in all the integers of the first list. This list of tuples should be ordered with the same order that the digits have in digitsList"
   ]
  },
  {
   "cell_type": "code",
   "execution_count": 18,
   "metadata": {},
   "outputs": [
    {
     "name": "stdout",
     "output_type": "stream",
     "text": [
      "[(1, 0), (8, 0), (4, 0)]\n"
     ]
    }
   ],
   "source": [
    "def count_spec_digits(num, dig) :\n",
    "    def count(n, d) :\n",
    "        c=0\n",
    "        for i in str(n) :\n",
    "            if i == str(d) :\n",
    "                c += 1\n",
    "        return c\n",
    "    def list_count (l, d) :\n",
    "        tot = 0\n",
    "        for i in l :\n",
    "            tot += count(i, d)\n",
    "        return tot\n",
    "    return [(d, list_count(num, d)) for d in dig]\n",
    "\n",
    "integers_list = [-77, -65, 56, -79, 6666, 222]\n",
    "digits_list = [1, 8, 4]\n",
    "print(count_spec_digits(integers_list, digits_list))"
   ]
  }
 ],
 "metadata": {
  "kernelspec": {
   "display_name": "Python 3.9.12 ('base')",
   "language": "python",
   "name": "python3"
  },
  "language_info": {
   "codemirror_mode": {
    "name": "ipython",
    "version": 3
   },
   "file_extension": ".py",
   "mimetype": "text/x-python",
   "name": "python",
   "nbconvert_exporter": "python",
   "pygments_lexer": "ipython3",
   "version": "3.9.12"
  },
  "orig_nbformat": 4,
  "vscode": {
   "interpreter": {
    "hash": "d17122d79747f4b383b2c6abff0c2edbb0c56782714054fbb4f5a4e0962ae7a0"
   }
  }
 },
 "nbformat": 4,
 "nbformat_minor": 2
}
