{
 "cells": [
  {
   "cell_type": "markdown",
   "metadata": {},
   "source": [
    "Lab 11 Object oriented programming\n",
    "\n",
    "Define a method/function that removes from a given array of integers all the values contained in a second array."
   ]
  },
  {
   "cell_type": "code",
   "execution_count": 2,
   "metadata": {},
   "outputs": [],
   "source": [
    "def rem(l, bl) :\n",
    "    return [item for item in l if item not in bl]"
   ]
  },
  {
   "cell_type": "markdown",
   "metadata": {},
   "source": [
    "Count the number of occurrences of each character and return it as a (list of tuples) in order of appearance. For empty output return (an empty list).\n",
    "\n",
    "Consult the solution set-up for the exact data structure implementation depending on your language."
   ]
  },
  {
   "cell_type": "code",
   "execution_count": 5,
   "metadata": {},
   "outputs": [
    {
     "name": "stdout",
     "output_type": "stream",
     "text": [
      "[('a', 5), ('b', 2), ('r', 2), ('c', 1), ('d', 1)]\n"
     ]
    }
   ],
   "source": [
    "def remove_dup(l) :\n",
    "    res = []\n",
    "    for item in l :\n",
    "        if item not in res :\n",
    "            res.append(item)\n",
    "    return res\n",
    "\n",
    "def freq (item, list) :\n",
    "    n = 0\n",
    "    for i in list :\n",
    "        if item == i :\n",
    "            n += 1\n",
    "    return n\n",
    "\n",
    "def s_count(s) :\n",
    "    l_from_s = [char for char in s]\n",
    "    return [(item, freq(item, l_from_s)) for item in remove_dup(l_from_s)]\n",
    "\n",
    "print(s_count(\"abracadabra\"))\n"
   ]
  }
 ],
 "metadata": {
  "kernelspec": {
   "display_name": "Python 3.9.12 ('base')",
   "language": "python",
   "name": "python3"
  },
  "language_info": {
   "codemirror_mode": {
    "name": "ipython",
    "version": 3
   },
   "file_extension": ".py",
   "mimetype": "text/x-python",
   "name": "python",
   "nbconvert_exporter": "python",
   "pygments_lexer": "ipython3",
   "version": "3.9.12"
  },
  "orig_nbformat": 4,
  "vscode": {
   "interpreter": {
    "hash": "d17122d79747f4b383b2c6abff0c2edbb0c56782714054fbb4f5a4e0962ae7a0"
   }
  }
 },
 "nbformat": 4,
 "nbformat_minor": 2
}
