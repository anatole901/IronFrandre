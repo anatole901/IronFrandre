{
 "cells": [
  {
   "cell_type": "markdown",
   "metadata": {},
   "source": [
    "# Introduction To Probability\n",
    "## Challenge 1\n",
    "\n",
    "A and B are events of a probability space with $(\\omega, \\sigma, P)$ such that $P(A) = 0.3$, $P(B) = 0.6$ and $P(A \\cap B) = 0.1$\n",
    "\n",
    "Which of the following statements are false?\n",
    "* $P(A \\cup B) = 0.6$\n",
    "* $P(A \\cap B^{C}) = 0.2$\n",
    "* $P(A \\cap (B \\cup B^{C})) = 0.4$\n",
    "* $P(A^{C} \\cap B^{C}) = 0.3$\n",
    "* $P((A \\cap B)^{C}) = 0.9$"
   ]
  },
  {
   "cell_type": "markdown",
   "metadata": {},
   "source": [
    "* False : $P(A \\cup B) = P(A) + P(B) - P(A \\cap B) = 0.8$\n",
    "* True : $P(A \\cap B^{C}) = P(A) - P(A \\cap B) = 0.2$\n",
    "* False : $P(A \\cap (B \\cup B^{C})) = P(A) = 0.3$\n",
    "* False : $P(A^{C} \\cap B^{C}) = P((A \\cup B)^{C}) = 1 - P(A \\cup B) = 0.2$\n",
    "* True : $P((A \\cap B)^{C}) = 1 - P(A \\cap B) = 0.9$"
   ]
  },
  {
   "cell_type": "markdown",
   "metadata": {},
   "source": [
    "## Challenge 2\n",
    "There is a box with 10 white balls, 12 red balls and 8 black balls. Calculate the probability of:\n",
    "* Taking a white ball out.\n",
    "* Taking a white ball out after taking a black ball out.\n",
    "* Taking a red ball out after taking a black and a red ball out.\n",
    "* Taking a red ball out after taking a black and a red ball out with reposition.\n",
    "\n",
    "**Hint**: Reposition means putting back the ball into the box after taking it out."
   ]
  },
  {
   "cell_type": "markdown",
   "metadata": {},
   "source": [
    "I obviously suppose that the balls have equal probability of being taken.\n",
    "* Taking a white ball out. $P = 10/30 = 1/3$ \n",
    "* Taking a white ball out after taking a black ball out. $P = 8/30 * 10/29 = 8/87$\n",
    "* Taking a red ball out after taking a black and a red ball out. $P = 8/30 * 12/29 * 11/28 = 44/1015$\n",
    "* Taking a red ball out after taking a black and a red ball out with reposition. $P = 8/30 * 12/30 * 12/30 = 16/375$"
   ]
  },
  {
   "cell_type": "markdown",
   "metadata": {},
   "source": [
    "## Challenge 3\n",
    "\n",
    "You are planning to go on a picnic today but the morning is cloudy. You hate rain so you don't know whether to go out or stay home! To help you make a decision, you gather the following data about rainy days:\n",
    "\n",
    "* 50% of all rainy days start off cloudy!\n",
    "* Cloudy mornings are common. About 40% of days start cloudy. \n",
    "* This month is usually dry so only 3 of 30 days (10%) tend to be rainy. \n",
    "\n",
    "What is the chance of rain during the day?"
   ]
  },
  {
   "cell_type": "markdown",
   "metadata": {},
   "source": [
    "Let's call $C(D)$ the event that day $D$'s morning is cloudy, $R(D)$ the event that day $D$ is raining. We know that for any day $D$ this month :\n",
    "* $P(C(D) | R(D)) = 0.5$\n",
    "* $P(C(D)) = 0.4$\n",
    "* $P(R(D)) = 0.1$\n",
    "\n",
    "We are looking for $P(R(today) | C(today))$. We use Bayes' formula :\n",
    "* $P(R(today) | C(today)) = P(C(today) | R(today)) * P(R(today)) / P(C(today)) = 0.5 * 0.1 / 0.4 = 0.125$"
   ]
  },
  {
   "cell_type": "markdown",
   "metadata": {},
   "source": [
    "## Challenge 4\n",
    "\n",
    "One thousand people were asked through a telephone survey whether they thought more street lighting is needed at night or not.\n",
    "\n",
    "Out of the 480 men that answered the survey, 324 said yes and 156 said no. On the other hand, out of the 520 women that answered, 351 said yes and 169 said no. \n",
    "\n",
    "We wonder if men and women have a different opinions about the street lighting matter. Is gender relevant or irrelevant to the question?\n",
    "\n",
    "Consider the following events:\n",
    "- The answer is yes, so the person that answered thinks that more street lighting is needed.\n",
    "- The person who answered is a man.\n",
    "\n",
    "We want to know if these events are independent, that is, if the fact of wanting more light depends on whether one is male or female. Are these events independent or not?\n",
    "\n",
    "**Hint**: To clearly compare the answers by gender, it is best to place the data in a table."
   ]
  },
  {
   "cell_type": "markdown",
   "metadata": {},
   "source": [
    "Let's call $G(X)$ the gender of a person $X$ who answered, $M$ if male, $F$ if female. Let's call $A(X)$ their answer, Y if yes, N if no. We know that :\n",
    "* $P(G(X) = M) = 0.48 ,  P(G(X) = F) = 0.52$\n",
    "* $P(G(X) = M \\cap A(X) = Y) = 0.324 , P(G(X) = M \\cap A(X) = N) = 0.156$\n",
    "* $P(G(X) = F \\cap A(X) = Y) = 0.351 , P(G(X) = F \\cap A(X) = N) = 0.169$\n",
    "\n",
    "We want to know if $P(A(X) = Y | G(X) = M)$ is equal to $P(A(X) = Y | G(X) = F)$.\n",
    "Let's calculate :\n",
    "* $P(A(X) = Y | G(X) = M) = P(G(X) = M \\cap A(X) = Y) / P(G(X) = M) = 0.324 / 0.48 = 0.675$\n",
    "* $P(A(X) = Y | G(X) = F) = P(G(X) = F \\cap A(X) = Y) / P(G(X) = F) = 0.351 / 0.52 = 0.675$\n",
    "\n",
    "We can conclude that the answer of a person is independant from their gender."
   ]
  }
 ],
 "metadata": {
  "kernelspec": {
   "display_name": "Python 3.9.13 ('base')",
   "language": "python",
   "name": "python3"
  },
  "language_info": {
   "codemirror_mode": {
    "name": "ipython",
    "version": 3
   },
   "file_extension": ".py",
   "mimetype": "text/x-python",
   "name": "python",
   "nbconvert_exporter": "python",
   "pygments_lexer": "ipython3",
   "version": "3.9.13"
  },
  "vscode": {
   "interpreter": {
    "hash": "d17122d79747f4b383b2c6abff0c2edbb0c56782714054fbb4f5a4e0962ae7a0"
   }
  }
 },
 "nbformat": 4,
 "nbformat_minor": 2
}
