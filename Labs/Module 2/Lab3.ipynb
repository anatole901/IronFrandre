{
 "cells": [
  {
   "cell_type": "markdown",
   "metadata": {},
   "source": [
    "Lab 3 Statistics\n",
    "\n",
    "Challenge 1\n",
    "Find a and b, if median=42, mean=50\n",
    "20, 34, 34,  12, 56, 110, 49, a, b.\n",
    "Let's suppose $a <= b$.\n",
    "We know that *a + b + 315 = 9 * 50*,\n",
    "ie $a + b = 135$.\n",
    "We deduce that $b >= 135/2 = 67.5$ and $a <= 67.5$.\n",
    "The sequence has 9 numbers including a and b, so the median is one of the 9. It is not among the given numbers, so it must be a or b. a is the only possibility. Let's check that this value works and raise the given mean and median. We deduce that :\n",
    "$b = 135 - a = 93$\n",
    "This assure that the mean is 50.\n",
    "If we sort the sequence ascendingly, we correctly find that $a = 42$ ranks 5th and makes the median equal to 42.\n",
    "\n",
    "Challenge 2\n",
    "A car hit an average speed of v1 = 60 kmph in the first half of the journey, and hit an average speed of v2 = 110 kmph in the second half of the journey. Determine the average speed of the car.\n",
    "\n",
    "Let's call v the speed of the car during the day, $t_{0}$ the time at the beginning of the day, $t_{1}$ the time at noon and $t_{2}$ the time at the end of the day. We look for $v_{av} = \\int_{t_{0}}^{t_{2}}v(t)dt / (t_{2} - t_{0})$.\n",
    "\n",
    "We know that $t_{1}$ is the middle of the day, ie $t_{2} - t_{1} = t_{1} - t_{0} = d /2$ if we call $d$ the time that the car has spent running during the whole day,\n",
    "\n",
    "$\\int_{t_{0}}^{t_{1}}v(t)dt / (t_{1} - t_{0}) = 60$,\n",
    "\n",
    "$\\int_{t_{1}}^{t_{2}}v(t)dt / (t_{2} - t_{1}) = 115$.\n",
    "\n",
    "Let's calculate :\n",
    "$v_{av} * d = \\int_{t_{0}}^{t_{2}}v(t)dt = \\int_{t_{0}}^{t_{1}}v(t)dt + \\int_{t_{1}}^{t_{2}}v(t)dt = (60 + 115) * d / 2$,\n",
    "ie $v_{av} = 87.5$.\n",
    "\n",
    "\n",
    "\n"
   ]
  },
  {
   "cell_type": "markdown",
   "metadata": {},
   "source": [
    "Challenge 3\n",
    "The lifetimes of 400 light-bulbs were found to the nearest hour. The results were recorded as\n",
    "follows.\n",
    "Lifetime (hours) 0–199 200–399 400–599 600–799 800–999 1000–1199 1200–1999\n",
    "Frequency         143     97      64      51      14      14        17\n",
    "Construct a histogram and cumulative frequency polygon for this dataset. Estimate the percentage\n",
    "of bulbs with lifetime less than 480 hours."
   ]
  },
  {
   "cell_type": "code",
   "execution_count": 9,
   "metadata": {},
   "outputs": [],
   "source": [
    "import pandas as pd\n",
    "import numpy as np\n",
    "import matplotlib.pyplot as plt"
   ]
  },
  {
   "cell_type": "code",
   "execution_count": 4,
   "metadata": {},
   "outputs": [
    {
     "data": {
      "text/html": [
       "<div>\n",
       "<style scoped>\n",
       "    .dataframe tbody tr th:only-of-type {\n",
       "        vertical-align: middle;\n",
       "    }\n",
       "\n",
       "    .dataframe tbody tr th {\n",
       "        vertical-align: top;\n",
       "    }\n",
       "\n",
       "    .dataframe thead th {\n",
       "        text-align: right;\n",
       "    }\n",
       "</style>\n",
       "<table border=\"1\" class=\"dataframe\">\n",
       "  <thead>\n",
       "    <tr style=\"text-align: right;\">\n",
       "      <th></th>\n",
       "      <th>Lifetime</th>\n",
       "      <th>Frequency</th>\n",
       "    </tr>\n",
       "  </thead>\n",
       "  <tbody>\n",
       "    <tr>\n",
       "      <th>0</th>\n",
       "      <td>0–199</td>\n",
       "      <td>143</td>\n",
       "    </tr>\n",
       "    <tr>\n",
       "      <th>1</th>\n",
       "      <td>200–399</td>\n",
       "      <td>97</td>\n",
       "    </tr>\n",
       "    <tr>\n",
       "      <th>2</th>\n",
       "      <td>400–599</td>\n",
       "      <td>64</td>\n",
       "    </tr>\n",
       "    <tr>\n",
       "      <th>3</th>\n",
       "      <td>600–799</td>\n",
       "      <td>51</td>\n",
       "    </tr>\n",
       "    <tr>\n",
       "      <th>4</th>\n",
       "      <td>800–999</td>\n",
       "      <td>14</td>\n",
       "    </tr>\n",
       "    <tr>\n",
       "      <th>5</th>\n",
       "      <td>1000–1199</td>\n",
       "      <td>14</td>\n",
       "    </tr>\n",
       "    <tr>\n",
       "      <th>6</th>\n",
       "      <td>1200–1999</td>\n",
       "      <td>17</td>\n",
       "    </tr>\n",
       "  </tbody>\n",
       "</table>\n",
       "</div>"
      ],
      "text/plain": [
       "    Lifetime  Frequency\n",
       "0      0–199        143\n",
       "1    200–399         97\n",
       "2    400–599         64\n",
       "3    600–799         51\n",
       "4    800–999         14\n",
       "5  1000–1199         14\n",
       "6  1200–1999         17"
      ]
     },
     "execution_count": 4,
     "metadata": {},
     "output_type": "execute_result"
    }
   ],
   "source": [
    "lifetimes = pd.DataFrame(columns = ['Lifetime', 'Frequency'], data = [['0–199', 143], ['200–399', 97], ['400–599', 64], ['600–799', 51], ['800–999', 14], ['1000–1199', 14], ['1200–1999', 17]])\n",
    "lifetimes"
   ]
  },
  {
   "cell_type": "code",
   "execution_count": 5,
   "metadata": {},
   "outputs": [
    {
     "data": {
      "text/html": [
       "<div>\n",
       "<style scoped>\n",
       "    .dataframe tbody tr th:only-of-type {\n",
       "        vertical-align: middle;\n",
       "    }\n",
       "\n",
       "    .dataframe tbody tr th {\n",
       "        vertical-align: top;\n",
       "    }\n",
       "\n",
       "    .dataframe thead th {\n",
       "        text-align: right;\n",
       "    }\n",
       "</style>\n",
       "<table border=\"1\" class=\"dataframe\">\n",
       "  <thead>\n",
       "    <tr style=\"text-align: right;\">\n",
       "      <th></th>\n",
       "      <th>Lifetime</th>\n",
       "      <th>Frequency</th>\n",
       "      <th>cum_freq</th>\n",
       "    </tr>\n",
       "  </thead>\n",
       "  <tbody>\n",
       "    <tr>\n",
       "      <th>0</th>\n",
       "      <td>0–199</td>\n",
       "      <td>143</td>\n",
       "      <td>143</td>\n",
       "    </tr>\n",
       "    <tr>\n",
       "      <th>1</th>\n",
       "      <td>200–399</td>\n",
       "      <td>97</td>\n",
       "      <td>240</td>\n",
       "    </tr>\n",
       "    <tr>\n",
       "      <th>2</th>\n",
       "      <td>400–599</td>\n",
       "      <td>64</td>\n",
       "      <td>304</td>\n",
       "    </tr>\n",
       "    <tr>\n",
       "      <th>3</th>\n",
       "      <td>600–799</td>\n",
       "      <td>51</td>\n",
       "      <td>355</td>\n",
       "    </tr>\n",
       "    <tr>\n",
       "      <th>4</th>\n",
       "      <td>800–999</td>\n",
       "      <td>14</td>\n",
       "      <td>369</td>\n",
       "    </tr>\n",
       "    <tr>\n",
       "      <th>5</th>\n",
       "      <td>1000–1199</td>\n",
       "      <td>14</td>\n",
       "      <td>383</td>\n",
       "    </tr>\n",
       "    <tr>\n",
       "      <th>6</th>\n",
       "      <td>1200–1999</td>\n",
       "      <td>17</td>\n",
       "      <td>400</td>\n",
       "    </tr>\n",
       "  </tbody>\n",
       "</table>\n",
       "</div>"
      ],
      "text/plain": [
       "    Lifetime  Frequency  cum_freq\n",
       "0      0–199        143       143\n",
       "1    200–399         97       240\n",
       "2    400–599         64       304\n",
       "3    600–799         51       355\n",
       "4    800–999         14       369\n",
       "5  1000–1199         14       383\n",
       "6  1200–1999         17       400"
      ]
     },
     "execution_count": 5,
     "metadata": {},
     "output_type": "execute_result"
    }
   ],
   "source": [
    "lifetimes['cum_freq'] = lifetimes['Frequency'].cumsum()\n",
    "lifetimes"
   ]
  },
  {
   "cell_type": "code",
   "execution_count": 14,
   "metadata": {},
   "outputs": [
    {
     "data": {
      "image/png": "[encoded data removed]",
      "text/plain": [
       "<Figure size 640x480 with 1 Axes>"
      ]
     },
     "metadata": {},
     "output_type": "display_data"
    }
   ],
   "source": [
    "plt.bar(lifetimes['Lifetime'], lifetimes['Frequency'])\n",
    "plt.plot(lifetimes['Lifetime'], lifetimes['cum_freq'], linewidth = 3, color = 'red', label = 'Cumulative frequency')\n",
    "plt.xlabel('Lifetime')\n",
    "plt.ylabel('Frequency')\n",
    "plt.legend()\n",
    "plt.show()"
   ]
  },
  {
   "cell_type": "markdown",
   "metadata": {},
   "source": [
    "We estimate the cumulative frequency for light_bulbs with lifetime less than 480 hours by taking the linear interpolation. Hence we find :\n",
    "\n",
    "$Cumulative frequency(480) = Cumulative frequency(200-399) + 80/200 * frequency(400-599) = 257$"
   ]
  },
  {
   "cell_type": "markdown",
   "metadata": {},
   "source": [
    "Challenge 4\n",
    "The time between arrival of 60 patients at an intensive care unit were recorded to the nearest hour.\n",
    "The data are shown below.\n",
    "Time (hours) 0–19 20–39 40–59 60–79 80–99 100–119 120–139 140–159 160–179\n",
    "Frequency     16    13    17    4     4      3       1      1       1\n",
    "Determine the median, mean and standard deviation for this dataset.\n",
    "\n",
    "To calculate these values, I take the repartition of the times of arrival of the patients to be linear in each interval, excluding the boundaries of each interval."
   ]
  },
  {
   "cell_type": "code",
   "execution_count": 15,
   "metadata": {},
   "outputs": [
    {
     "data": {
      "text/html": [
       "<div>\n",
       "<style scoped>\n",
       "    .dataframe tbody tr th:only-of-type {\n",
       "        vertical-align: middle;\n",
       "    }\n",
       "\n",
       "    .dataframe tbody tr th {\n",
       "        vertical-align: top;\n",
       "    }\n",
       "\n",
       "    .dataframe thead th {\n",
       "        text-align: right;\n",
       "    }\n",
       "</style>\n",
       "<table border=\"1\" class=\"dataframe\">\n",
       "  <thead>\n",
       "    <tr style=\"text-align: right;\">\n",
       "      <th></th>\n",
       "      <th>Time</th>\n",
       "      <th>Frequency</th>\n",
       "    </tr>\n",
       "  </thead>\n",
       "  <tbody>\n",
       "    <tr>\n",
       "      <th>0</th>\n",
       "      <td>0–19</td>\n",
       "      <td>16</td>\n",
       "    </tr>\n",
       "    <tr>\n",
       "      <th>1</th>\n",
       "      <td>20–39</td>\n",
       "      <td>13</td>\n",
       "    </tr>\n",
       "    <tr>\n",
       "      <th>2</th>\n",
       "      <td>40–59</td>\n",
       "      <td>17</td>\n",
       "    </tr>\n",
       "    <tr>\n",
       "      <th>3</th>\n",
       "      <td>60–79</td>\n",
       "      <td>4</td>\n",
       "    </tr>\n",
       "    <tr>\n",
       "      <th>4</th>\n",
       "      <td>80–99</td>\n",
       "      <td>4</td>\n",
       "    </tr>\n",
       "    <tr>\n",
       "      <th>5</th>\n",
       "      <td>100–119</td>\n",
       "      <td>3</td>\n",
       "    </tr>\n",
       "    <tr>\n",
       "      <th>6</th>\n",
       "      <td>120–139</td>\n",
       "      <td>1</td>\n",
       "    </tr>\n",
       "    <tr>\n",
       "      <th>7</th>\n",
       "      <td>140–159</td>\n",
       "      <td>1</td>\n",
       "    </tr>\n",
       "    <tr>\n",
       "      <th>8</th>\n",
       "      <td>160–179</td>\n",
       "      <td>1</td>\n",
       "    </tr>\n",
       "  </tbody>\n",
       "</table>\n",
       "</div>"
      ],
      "text/plain": [
       "      Time  Frequency\n",
       "0     0–19         16\n",
       "1    20–39         13\n",
       "2    40–59         17\n",
       "3    60–79          4\n",
       "4    80–99          4\n",
       "5  100–119          3\n",
       "6  120–139          1\n",
       "7  140–159          1\n",
       "8  160–179          1"
      ]
     },
     "execution_count": 15,
     "metadata": {},
     "output_type": "execute_result"
    }
   ],
   "source": [
    "patients = pd.DataFrame(columns = ['Time', 'Frequency'], data = [['0–19', 16], ['20–39', 13], ['40–59', 17], ['60–79', 4], ['80–99', 4], ['100–119', 3], ['120–139', 1], ['140–159', 1], ['160–179', 1]])\n",
    "patients"
   ]
  },
  {
   "cell_type": "code",
   "execution_count": 17,
   "metadata": {},
   "outputs": [],
   "source": [
    "patients_list = []\n",
    "for i in range(9) :\n",
    "    for j in range(patients['Frequency'][i]) :\n",
    "        freq = 20 * i + 20 * (1 + j) / (1 + patients['Frequency'][i])\n",
    "        patients_list.append(freq)"
   ]
  },
  {
   "cell_type": "code",
   "execution_count": 20,
   "metadata": {},
   "outputs": [
    {
     "data": {
      "text/plain": [
       "(47.0, 41.66666666666667, 36.83651279876766)"
      ]
     },
     "execution_count": 20,
     "metadata": {},
     "output_type": "execute_result"
    }
   ],
   "source": [
    "(np.mean(patients_list), np.median(patients_list), np.std(patients_list))"
   ]
  },
  {
   "cell_type": "markdown",
   "metadata": {},
   "source": [
    "Challenge 5\n",
    "One player rolls two dices. Describe the measurable space and the random variable for:\n",
    "* A. The values that the player obtains.\n",
    "\n",
    "$\\Omega = \\{(i, j), for i, j \\in \\{ 1, 2, 3, 4, 5, 6 \\} \\}$,\n",
    "\n",
    "$P(i, j) = 1 /36, for i, j \\in \\{ 1, 2, 3, 4, 5, 6 \\}$\n",
    "* B. The sum of the values obtained.\n",
    "\n",
    "$\\Omega = [2, 12] \\cap \\N$\n",
    "\n",
    "$P(n) = (6 - |n - 7|) / 36 for n \\in \\Omega$\n",
    "* C. The maximum value obtained after rolling both dices.\n",
    "\n",
    "$\\Omega = \\{ 1, 2, 3, 4, 5, 6 \\}$\n",
    "\n",
    "$P(n) = (2 * n - 1) / 36 for n \\in \\Omega$\n",
    "\n",
    "Describe the following events:\n",
    "* Case A: Both values are greater than 5.\n",
    "\n",
    "$P(A) = 4/36 = 1/9$\n",
    "* Case B: The sum of values is even.\n",
    "\n",
    "$P(B) = 18 / 36 = 1 / 2$\n",
    "* Case C: The maximum is the value of both rolls.\n",
    "\n",
    "$P(C) = 6 / 36 = 1 / 6$"
   ]
  },
  {
   "cell_type": "markdown",
   "metadata": {},
   "source": [
    "Challenge 6\n",
    "One player picks two cards from a poker deck. Describe the measurable space and the random variable for:\n",
    "* A. The number of figures he picks.\n",
    "\n",
    "$\\Omega = \\{0, 1, 2\\}$\n",
    "\n",
    "$P(0) = 2C40 / 2C52 = 40 * 39 / (52 * 51)$\n",
    "\n",
    "$P(1) = 1C40 * 1C12 / 2C52 = 2 * 40 * 12 / (52 * 51)$\n",
    "\n",
    "$P(2) = 2C12 / 2C52 = 12 * 11 / (52 * 51)$\n",
    "\n",
    "* B. The sum of card values. Consider that the value of figures is 10 and the value of aces is 15.\n",
    "\n",
    "$\\Omega = [4, 25] \\cap \\N \\cup \\{30\\}$\n",
    "* C. The number of hearts or spades he picks.\n",
    "\n",
    "$\\Omega = \\{0, 1, 2\\}$\n",
    "\n",
    "$P(0) = P(2) = 2C26 / 2C52$\n",
    "\n",
    "$P(1) = 26 * 26 / 2C52$\n",
    "\n",
    "\n",
    "Describe the following events:\n",
    "* Case A: The number of figures in the cards the player picked is two.\n",
    "\n",
    "$P(A) = 12 * 11 / (52 * 51)$\n",
    "\n",
    "* Case B: The sum of card values is 17.\n",
    "B is the union of the following events (we note as a couple (a, b) the event that the values of the two cards  are a and b) :\n",
    "(1, 2), (2, 1), (7, b) for $b \\in \\{10, J, Q, K\\}$, (8, 9), (9, 8), (a, 7) for $a \\in \\{10, J, Q, K\\}$.\n",
    "The probability of B is :\n",
    "\n",
    "$P(B) * 2C52 = 4 * 4 * 4 + 2 * 4 * 16$\n",
    "\n",
    "$P(B) = 2 * 192 / (52 * 51)$\n",
    "\n",
    "* Case C: The value of both cards is less than 8.\n",
    "\n",
    "$P(C) = 2C28 / 2C52$"
   ]
  },
  {
   "cell_type": "markdown",
   "metadata": {},
   "source": [
    "Challenge 7\n",
    "Two players roll a dice. Describe the measurable space and the random variable for:\n",
    "* A. The score of player A.\n",
    "\n",
    "$\\Omega = \\{1, 2, 3, 4, 5, 6\\}$\n",
    "\n",
    "* B. The greatest score.\n",
    "\n",
    "$\\Omega = \\{1, 2, 3, 4, 5, 6\\}$\n",
    "* C. The earnings of player A if the game rules state that:  \n",
    "\"The player with the greatest score gets a coin from the other player.\".\n",
    "\n",
    "$\\Omega = \\{-1, 0, 1\\}$\n",
    "\n",
    "* D. The earnings of player A if the game rules state that:  \n",
    "\"The player with the greatest score gets as many coins as the difference between the score of player A and player B.\". \n",
    "\n",
    "$\\Omega = [-5, 5] \\cap \\N$\n",
    "\n",
    "Describe the following events:\n",
    "* Case A: The score of player A is 2.\n",
    "\n",
    "$P(A) = 1 / 6$\n",
    "* Case B: The greatest score is lower or equal than 2.\n",
    "\n",
    "$P(B) = 4/36 = 1/9$\n",
    "* Case C: Considering the case where the winner gets as many coins as the difference between scores (D), describe: \n",
    "  * Player A wins at least 4 coins.\n",
    "\n",
    "  $P(C_{1}) = 3/36 = 1/12$\n",
    "  * Player A loses more than 2 coins.\n",
    "\n",
    "  $P(C_{2}) = 6/36 = 1/6$\n",
    "  * Player A neither wins nor loses coins.\n",
    "\n",
    "$P(C_{3}) = 6/36 = 1/6$"
   ]
  },
  {
   "cell_type": "code",
   "execution_count": 26,
   "metadata": {},
   "outputs": [
    {
     "data": {
      "text/plain": [
       "1.0"
      ]
     },
     "execution_count": 26,
     "metadata": {},
     "output_type": "execute_result"
    }
   ],
   "source": [
    "2 * 26 * 25 / (52 * 51) + 26 * 26 * 2 / (52 * 51) "
   ]
  }
 ],
 "metadata": {
  "kernelspec": {
   "display_name": "Python 3.9.13 ('base')",
   "language": "python",
   "name": "python3"
  },
  "language_info": {
   "codemirror_mode": {
    "name": "ipython",
    "version": 3
   },
   "file_extension": ".py",
   "mimetype": "text/x-python",
   "name": "python",
   "nbconvert_exporter": "python",
   "pygments_lexer": "ipython3",
   "version": "3.9.13"
  },
  "orig_nbformat": 4,
  "vscode": {
   "interpreter": {
    "hash": "d17122d79747f4b383b2c6abff0c2edbb0c56782714054fbb4f5a4e0962ae7a0"
   }
  }
 },
 "nbformat": 4,
 "nbformat_minor": 2
}
