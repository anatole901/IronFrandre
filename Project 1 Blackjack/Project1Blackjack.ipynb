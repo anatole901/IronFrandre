{
 "cells": [
  {
   "cell_type": "markdown",
   "metadata": {},
   "source": [
    "Project 1 : Blackjack"
   ]
  },
  {
   "cell_type": "markdown",
   "metadata": {},
   "source": [
    "In this project, we are creating a game of blackjack. We are implementing it in Python.\n",
    "\n",
    "Plan of the project\n",
    "\n",
    "I Rules of the game\n",
    "    1_ Overview\n",
    "    2_ Value of the cards\n",
    "    3_ The process of a round\n",
    "    4_ Ending the round\n",
    "    5_ Process of the game\n",
    "\n",
    "II Creating thee data structure\n",
    "III Creating and shuffling the deck\n",
    "IV Implementing the game\n"
   ]
  },
  {
   "cell_type": "markdown",
   "metadata": {},
   "source": [
    "I Rules of the game\n",
    "\n",
    "1_ Overview\n",
    "\n",
    "The rules of the game that we are about to implement are the following.\n",
    "We are playing with a standard deck of 52 playing cards. There are between 1 and 4 players. Their objective is to beat the dealer that will play automatically. Each player and the dealer (I will refer to a player or the dealer as an actor) receive cards. Cards have a value. Each actor decides to either get more cards or stop and lock their score. A player wins if his score is greater than the dealer's but not greater than 21. If an actor's score is greater than 21, we say that he is busted. A busted player automatically loses whatever the dealer does.\n",
    "\n",
    "2_ Value of the cards\n",
    "\n",
    "There are 52 cards in the deck separated in 4 colors that have no meaning in this game. Each color has 13 cards, ten numbered cards that range from 1 to 10 and 3 faces which are the jack, the queen and the king. The value of each face is 10, the value of each card between 2 and 10 is its number. The 1 has a value that depends on the actor's score. It stands for 11 unless the actor's score is greater than 21, in which case it stands for 1.\n",
    "\n",
    "3_ The process of a round\n",
    "\n",
    "At the start of the game, each player is given a stack of 500 chips. At the start of every round, each player has the choice to either leave the game and lock his score as final or continue the game. Then the round starts and each player bets any even non-zero amount of chips not greater than 100 chips that he can afford.\n",
    "\n",
    "The dealer receives one card and each player receives two cards that are revealed to all players. Any player that has two cards with the same value and can afford may choose to separate those in two hands, putting an identical bet on the second hand that is freshly created. We say that he splits his hand. Till the end of the round, he will manage his two hands separately and each hand can win or lose him the round separately. Then the first player choose to hit or to stand. If he hits, he draws an additionnal card, adding it to his hand. If his score becomes greater than 21, he is busted. If he stands, he locks his score for the round. He repeats until he either stands or is busted. Then each player does the same in turns. The dealer does the same, but automatically hits if his score is less than 17. If his score is between 17 and 21, he stands.\n",
    "\n",
    "4_ Ending the round\n",
    "\n",
    "Each busted player loses the round. Any player that has a score greater than the dealer's wins the round. Use 0 as the dealer's score if he is busted. Any other player loses the round. Any losing player loses his bet and the chips are taken from his stack. Any winning player wins an amount of chips equal to his bet unless his score is 21 (we say that he has a blackjack), in which case he wins 150% of his bet.\n",
    "\n",
    "5_ Process of the game\n",
    "\n",
    "The players play rounds until everyone either leaves the game at the start of a round or lose all his stack of chips. The winning player is the one with the biggest final score. Try your best!"
   ]
  },
  {
   "cell_type": "markdown",
   "metadata": {},
   "source": [
    "II Creating the data structure"
   ]
  },
  {
   "cell_type": "code",
   "execution_count": 18,
   "metadata": {},
   "outputs": [],
   "source": [
    "class Card() :\n",
    "    def __init__(self, value, color) :\n",
    "        if value.lower() in ['1', '2', '3', '4', '5', '6', '7', '8', '9', '10', 'jack', 'queen', 'king'] :\n",
    "            self.value = value.title()\n",
    "        else :\n",
    "            raise ValueError(\"The value of a card is a number between 1 and 10, Jack, Queen or King.\")\n",
    "        if color.lower() in ['heart', 'spade', 'diamond', 'club'] :\n",
    "            self.color = color.title()\n",
    "        else :\n",
    "            raise ValueError(\"The color of a card is among Club, Heart, Spade or Diamond.\")   \n",
    "    \n",
    "class Player() :\n",
    "    def __init__(self, name) :\n",
    "        self.name = name\n",
    "        self.hand = []\n",
    "        self.isclone = False\n",
    "        self.bet = 0\n",
    "        self.stack = 500\n",
    "\n",
    "    def empty_hand(self) :\n",
    "        self.hand = []\n",
    "\n",
    "    def draw_card(self, deck) :\n",
    "        self.hand.append(deck[-1])\n",
    "        deck.pop()\n"
   ]
  },
  {
   "cell_type": "markdown",
   "metadata": {},
   "source": [
    "III Creating and shuffling the deck"
   ]
  },
  {
   "cell_type": "code",
   "execution_count": 19,
   "metadata": {},
   "outputs": [],
   "source": [
    "import random\n",
    "\n",
    "def shuffled_deck() :\n",
    "    deck = [Card(value, color) for value in ['1', '2', '3', '4', '5', '6', '7', '8', '9', '10', 'jack', 'queen', 'king'] for color in ['heart', 'spade', 'diamond', 'club']]\n",
    "    random.shuffle(deck)\n",
    "    return deck"
   ]
  },
  {
   "cell_type": "markdown",
   "metadata": {},
   "source": [
    "IV Implementing the game"
   ]
  },
  {
   "cell_type": "markdown",
   "metadata": {},
   "source": [
    "First, let's define who the players are."
   ]
  },
  {
   "cell_type": "code",
   "execution_count": 20,
   "metadata": {},
   "outputs": [],
   "source": [
    "def init_players() :\n",
    "    num_players = '0'\n",
    "    list_players = []\n",
    "    while num_players not in ['1', '2', '3', '4'] :\n",
    "        num_players = input(\"Please choose the number of players. Enter a number between 1 and 4.\")\n",
    "    for i in range(int(num_players)) :\n",
    "        next_player = ''\n",
    "        while next_player in ['', 'Dealer'] or next_player in list_players :\n",
    "            next_player = input(f\"Enter the name of player {i+1} other than \\\"Dealer\\\" or the name of another player.\")\n",
    "        list_players.append(next_player)\n",
    "    return [Player(name) for name in list_players]\n",
    "\n",
    "dealer = Player(\"Dealer\")\n"
   ]
  },
  {
   "cell_type": "markdown",
   "metadata": {},
   "source": [
    "Then let's code some useful functions."
   ]
  },
  {
   "cell_type": "code",
   "execution_count": 21,
   "metadata": {},
   "outputs": [],
   "source": [
    "def enter_bets(players) :\n",
    "    deck = shuffled_deck()\n",
    "    dealer.draw_card(deck)\n",
    "    input(f\"The dealer has drawn a {dealer.hand[0].value.title()} of {dealer.hand[0].color.title()}. Press enter to continue\")\n",
    "    active_players = players\n",
    "    for player in players :\n",
    "        bet = '1'\n",
    "        while bet not in [str(item) for item in range(0, 101, 2)] or int(bet) > player.stack if bet.isdigit() else True :\n",
    "            bet = input(f\"Player {player.name}, your current stack is {player.stack}. Please enter your bet. Choose any even number between 0 and 100 not greater than your stack. Please consider that a bet of 0 will make you leave the game and make your stack of chips final.\")\n",
    "        player.bet = int(bet)\n",
    "        if bet == '0' :\n",
    "            active_players.remove(player)\n",
    "    return (active_players, deck)\n",
    "\n",
    "def hand_value (hand) :\n",
    "    there_is_an_ace = False\n",
    "    h_v = 0\n",
    "    for card in hand :\n",
    "        if card.value in [str(item) for item in range(1, 11)] :\n",
    "            h_v += int(card.value)\n",
    "            if card.value == '1' :\n",
    "                there_is_an_ace = True\n",
    "        else :\n",
    "            h_v += 10\n",
    "    if there_is_an_ace and h_v <= 11 :\n",
    "        return h_v + 10\n",
    "    else :\n",
    "        return h_v\n",
    "\n",
    "def string_from_hand (hand) :\n",
    "    s = 'nothing'\n",
    "    if hand != [] :\n",
    "        s = f'a {hand[0].value} of {hand[0].color}'\n",
    "    for card in hand[1:len(hand)] :\n",
    "        s = s+f' and a {card.value} of {card.color}'\n",
    "    return s\n"
   ]
  },
  {
   "cell_type": "code",
   "execution_count": 22,
   "metadata": {},
   "outputs": [],
   "source": [
    "def clone(player):\n",
    "    c = Player(player.name+', your second hand')\n",
    "    c.isclone = True\n",
    "    c.bet = player.bet\n",
    "    return c\n",
    "    \n",
    "def split (index, players, deck) :\n",
    "    active_players = []\n",
    "    p = players[index]\n",
    "    c = clone(p)\n",
    "    for i in range(index-1) :\n",
    "        active_players.append(players[i])\n",
    "    cardclone = p.hand[1]\n",
    "    c.hand = [cardclone]\n",
    "    p.hand.pop()\n",
    "    p.draw_card(deck)\n",
    "    c.draw_card(deck)\n",
    "    active_players.append(p)\n",
    "    active_players.append(c)\n",
    "    for i in range(index+1, len(players)) :\n",
    "        active_players.append(players[i])\n",
    "    return active_players\n",
    "\n",
    "\n",
    "\n",
    "\n",
    "    "
   ]
  },
  {
   "cell_type": "markdown",
   "metadata": {},
   "source": [
    "Then let's code how a round works. The core function."
   ]
  },
  {
   "cell_type": "code",
   "execution_count": 23,
   "metadata": {},
   "outputs": [],
   "source": [
    "    \n",
    "def round(players, deck) :\n",
    "    if players == [] :\n",
    "        return[]\n",
    "    else :\n",
    "        active_players = [player for player in players]\n",
    "        index = 0\n",
    "        \n",
    "        for pl in players :\n",
    "            pl.draw_card(deck); pl.draw_card(deck)\n",
    "            if pl.hand[0].value == pl.hand[1].value and pl.stack >= pl.bet * 2 :\n",
    "                do_pl_split = ''\n",
    "                while do_pl_split.lower() not in ['yes', 'no'] :\n",
    "                    do_pl_split = input(f\"Player {pl.name}, you have a double as a starting hand. You have {string_from_hand(pl.hand)}. Do you want to split your hand and bet an extra {pl.bet} chips? Enter \\\"Yes\\\" or \\\"No\\\".\")\n",
    "                if do_pl_split.lower() == 'yes' :\n",
    "                    active_players = split(index, active_players, deck)\n",
    "                    index += 2\n",
    "                else :\n",
    "                    index += 1\n",
    "        \n",
    "        for pl in active_players :\n",
    "            do_pl_hit = ''\n",
    "            while hand_value(pl.hand) <= 21 and do_pl_hit.lower() != 'stand':\n",
    "                while do_pl_hit.lower() not in ['hit', 'stand'] :\n",
    "                    do_pl_hit = input(f'Player {pl.name}. You have {string_from_hand(pl.hand)} in your hand. Your score is {hand_value(pl.hand)}. Do you want to hit or stand? Please enter \\\"Hit\\\" if you want to hit and \\\"Stand\\\" if you want to stand')\n",
    "                if do_pl_hit.lower() == 'hit' :\n",
    "                    pl.draw_card(deck)\n",
    "                    do_pl_hit = ''\n",
    "            if hand_value(pl.hand) > 21 :\n",
    "                input(f'Player {pl.name}. You drew {string_from_hand([pl.hand[-1]])}. Your score is {hand_value(pl.hand)}. You are busted! Press Enter to continue.')\n",
    "            else :\n",
    "                input(f'Player {pl.name}. Your final score for this round is {hand_value(pl.hand)}. Press Enter to continue.')\n",
    "        \n",
    "        while hand_value(dealer.hand) < 17 :\n",
    "            dealer.draw_card(deck)\n",
    "        score_dealer = hand_value(dealer.hand)\n",
    "        input(f\"The Dealer drew {string_from_hand(dealer.hand)}. The Dealer's final score for this round is {score_dealer}. Press Enter to continue.\")\n",
    "        if score_dealer > 21 :\n",
    "            input(\"The Dealer is busted! Press Enter to continue.\")\n",
    "            score_dealer = 0\n",
    "\n",
    "        for i in range(len(active_players)) :\n",
    "            pl_i = active_players[i]\n",
    "            score_i = hand_value(pl_i.hand)\n",
    "            if not pl_i.isclone :\n",
    "                if score_i > score_dealer and score_i < 21 :\n",
    "                    pl_i.stack += pl_i.bet\n",
    "                    input(f'Player {pl_i.name}. You won your bet! You earned {pl_i.bet} extra chips! Press Enter to continue.')\n",
    "                elif score_i > score_dealer and score_i == 21 :\n",
    "                    pl_i.stack += pl_i.bet * 3 // 2\n",
    "                    input(f'Player {pl_i.name}. You won your bet with a blackjack! Amazing! You earned {pl_i.bet * 3 // 2} extra chips! Press Enter to continue.')\n",
    "                else :\n",
    "                    pl_i.stack -= pl_i.bet\n",
    "                    input(f'Player {pl_i.name}. You lost your bet. You lost {pl_i.bet} chips. Press Enter to continue.')\n",
    "            else :\n",
    "                if score_i > score_dealer and score_i < 21 :\n",
    "                    active_players[i-1].stack += pl_i.bet\n",
    "                    input(f'Player {pl_i.name}. You won your bet! You earned {pl_i.bet} extra chips! Press Enter to continue.')\n",
    "                elif score_i > score_dealer and score_i == 21 :\n",
    "                    active_players[i-1].stack += pl_i.bet * 3 // 2\n",
    "                    input(f'Player {pl_i.name}. You won your bet with a blackjack! Amazing! You earned {pl_i.bet * 3 // 2} extra chips! Press Enter to continue.')\n",
    "                else :\n",
    "                    active_players[i-1].stack -= pl_i.bet\n",
    "                    input(f'Player {pl_i.name}. You lost your bet. You lost {pl_i.bet} chips. Press Enter to continue.')\n",
    "        for player in active_players :\n",
    "            player.empty_hand()\n",
    "        dealer.empty_hand()\n",
    "        return [player for player in active_players if not player.isclone]"
   ]
  },
  {
   "cell_type": "markdown",
   "metadata": {},
   "source": [
    "Now let's implement the full game."
   ]
  },
  {
   "cell_type": "code",
   "execution_count": 24,
   "metadata": {},
   "outputs": [],
   "source": [
    "def blackjack() :\n",
    "    players = init_players()\n",
    "    winner = [players[0]]\n",
    "    active_players = [player for player in players]\n",
    "    while active_players != [] :\n",
    "        e_b = enter_bets(active_players)\n",
    "        active_players = round(e_b[0], e_b[1])\n",
    "    \n",
    "    for player in players :\n",
    "        input(f'Player {player.name}. Your final stack has {player.stack} chips. Well played! Press Enter to continue.')\n",
    "        if player.stack > winner[0].stack :\n",
    "            winner = [player]\n",
    "        elif player.stack == winner[0].stack and player != winner[0] :\n",
    "            winner.append(player)\n",
    "    for player in winner :\n",
    "        if player.stack > 500 :\n",
    "            input(f'Player {player.name}. Well played! You won this game with a high score of {player.stack}!')\n"
   ]
  },
  {
   "cell_type": "markdown",
   "metadata": {},
   "source": [
    "Example"
   ]
  },
  {
   "cell_type": "code",
   "execution_count": 25,
   "metadata": {},
   "outputs": [],
   "source": [
    "blackjack()"
   ]
  }
 ],
 "metadata": {
  "kernelspec": {
   "display_name": "Python 3 (ipykernel)",
   "language": "python",
   "name": "python3"
  },
  "language_info": {
   "codemirror_mode": {
    "name": "ipython",
    "version": 3
   },
   "file_extension": ".py",
   "mimetype": "text/x-python",
   "name": "python",
   "nbconvert_exporter": "python",
   "pygments_lexer": "ipython3",
   "version": "3.9.13"
  },
  "vscode": {
   "interpreter": {
    "hash": "d17122d79747f4b383b2c6abff0c2edbb0c56782714054fbb4f5a4e0962ae7a0"
   }
  }
 },
 "nbformat": 4,
 "nbformat_minor": 2
}
