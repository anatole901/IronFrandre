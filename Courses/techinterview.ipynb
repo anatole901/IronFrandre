{
 "cells": [
  {
   "cell_type": "code",
   "execution_count": 9,
   "metadata": {},
   "outputs": [],
   "source": [
    "import regex as re"
   ]
  },
  {
   "cell_type": "markdown",
   "metadata": {},
   "source": [
    "Task 1. \n",
    "\n",
    "Let's imagine a situation: you went to the market and filled your baskets (basket1 and basket2) with fruits. You wanted to have one of each kind but realized that some fruits were put in both baskets.\n",
    "\n",
    "1. Your first task is to remove everything from basket2 that is already present in basket1."
   ]
  },
  {
   "cell_type": "code",
   "execution_count": 3,
   "metadata": {},
   "outputs": [],
   "source": [
    "def remove_dupl(basket1, basket2) :\n",
    "    return [fruit for fruit in basket1 if not(fruit in basket2)]"
   ]
  },
  {
   "cell_type": "code",
   "execution_count": 4,
   "metadata": {},
   "outputs": [
    {
     "data": {
      "text/plain": [
       "[1]"
      ]
     },
     "execution_count": 4,
     "metadata": {},
     "output_type": "execute_result"
    }
   ],
   "source": [
    "remove_dupl([1, 2, 3], [2, 4, 5, 3])"
   ]
  },
  {
   "cell_type": "markdown",
   "metadata": {},
   "source": [
    "2. After the removal it is reasonable to anticipate that one of the baskets might weigh more compared to the another (all fruit kinds weight the same). Therefore, the second task is to transfer some fruits from a heavier basket to the lighter one to get approximately the same weight/amount of fruits."
   ]
  },
  {
   "cell_type": "code",
   "execution_count": 6,
   "metadata": {},
   "outputs": [],
   "source": [
    "def balance(basket1, basket2) :\n",
    "    basket = basket1 + basket2\n",
    "    n = len(basket)//2\n",
    "    return basket[:n], basket[n:]"
   ]
  },
  {
   "cell_type": "code",
   "execution_count": 7,
   "metadata": {},
   "outputs": [
    {
     "data": {
      "text/plain": [
       "([1, 2, 3], [4, 5, 6, 7])"
      ]
     },
     "execution_count": 7,
     "metadata": {},
     "output_type": "execute_result"
    }
   ],
   "source": [
    "balance([1, 2, 3, 4, 5], [6, 7])"
   ]
  },
  {
   "cell_type": "markdown",
   "metadata": {},
   "source": [
    "Task 2. \n",
    "\n",
    "Your task is to create a regular expression matching a valid temperature represented either in Celsius or Fahrenheit scale (e.g. '+23.5 C', '-4 F', '0.0 C', '73.45 F') and to extract all the appearances from the given string text. Positive temperatures can be with or without the + prefix (e.g. '5 F', '+5 F'). Negative temperatures must be prefixed with -. Zero temperature can be used with a prefix or without."
   ]
  },
  {
   "cell_type": "code",
   "execution_count": 12,
   "metadata": {},
   "outputs": [],
   "source": [
    "def find_temp(text) :\n",
    "    return [item[0] for item in re.findall('([+-]?\\d?\\d([.]\\d\\d?)? [CF])', text)]"
   ]
  },
  {
   "cell_type": "code",
   "execution_count": 13,
   "metadata": {},
   "outputs": [
    {
     "data": {
      "text/plain": [
       "['+23.5 C', '-21 F']"
      ]
     },
     "execution_count": 13,
     "metadata": {},
     "output_type": "execute_result"
    }
   ],
   "source": [
    "find_temp(\"Hello. +23.5 C here. It's pretty hot. Better than last month's -21 F\")"
   ]
  },
  {
   "cell_type": "markdown",
   "metadata": {},
   "source": [
    "Task 3.\n",
    "\n",
    "You should create and use two tables:\n",
    "\n",
    "calls : one row per client’s call. A client can call multiple times. When incoming_number is NULL, it means that the client called with a hidden phone number.\n",
    "\n",
    "clients_crm : one row per client registered in our CRM. Client data is manually entered by agents, and then subject to errors and duplicates. CreationDate is not necessarily the date of the call, as a client can call multiple times and an agent can write down information on a paper and copy it later into the CRM. "
   ]
  },
  {
   "cell_type": "markdown",
   "metadata": {},
   "source": [
    "CREATE TABLE calls(\n",
    "    id int,\n",
    "    called_number varchar(15),\n",
    "    date date,\n",
    "    duration_in_sec int,\n",
    "    incoming_number varchar(15));\n",
    "\n",
    "CREATE TABLE clients_crm(\n",
    "    id int,\n",
    "    FirstName varchar(30),\n",
    "    LastName varchar(30),\n",
    "    PhoneNumber varchar(15),\n",
    "    CreationDate date);"
   ]
  },
  {
   "cell_type": "markdown",
   "metadata": {},
   "source": [
    "1. Perform a simple query to list the number of calls per day.\n",
    "\n",
    "SELECT count(*) as num_calls FROM calls\n",
    "GROUP BY DAY(date);"
   ]
  },
  {
   "cell_type": "markdown",
   "metadata": {},
   "source": [
    "2. In our business, timing is key. A growth hacker needs to understand when clients are ﬁrst contacting us, even if ﬁrst contact does not lead to a client record inscription in our CRM. For that purpose, he asks you to provide a table with the following structure :\n",
    "\n",
    "a.    client ID if available\n",
    "\n",
    "b.    client First Name if available\n",
    "\n",
    "c.   client Last Name if available\n",
    "\n",
    "d.    ﬁrst call date\n",
    "\n",
    "e.    average calls duration for that client if available\n",
    "\n",
    "f.    client phone number\n",
    "\n",
    " Warning : You can see that not all clients are referenced in the calls table, and vice versa !\n",
    "\n",
    " Indeed :\n",
    "\n",
    "●  Some clients are present in the client_crm database but we have not tracked properly their calls, so they are not present in the calls database\n",
    "\n",
    "(Tips : If a client's ﬁrst call date is unavailable, we can use the client record creation date.)\n",
    "\n",
    "●   Some prospects (potential clients) contacted us by phone but the agent who took the call did not register them properly in the client_crm database (you will not be able to ﬁnd the ID, First Name and LastName for all the contacts)\n",
    "\n",
    "SELECT cl.id, cl.FirstName, cl.LastName, IF(min(ca.date) IS NULL, cl.CreationDate, min(ca.date)) as first_call_date, IF(cl.PhoneNumber IS NULL, CONVERT(ca.incoming_number, CHAR), cl.PhoneNumber) as phone_number\n",
    "FROM calls ca\n",
    "OUTER JOIN clients_crm cl ON CONVERT(ca.incoming_number, CHAR) = cl.PhoneNumber\n",
    "GROUP BY ca.incoming_number;"
   ]
  },
  {
   "cell_type": "markdown",
   "metadata": {},
   "source": [
    " 3. In a phone-based model, one of the main difﬁculties is to properly track clients. As mentioned before, you can see that not all clients are referenced in the calls table, and vice versa: To deal with this difﬁculty, management suggests to track the transformation rate at a daily bucket. In other words, for each day, we want to know the ratio of the number of clients with a record in our CRM out of the number of calls received that same day.Can you provide the report with ALL clients and ALL calls taken into account ? With the following structure:\n",
    "\n",
    "a.    day\n",
    "\n",
    "b.    number of calls\n",
    "\n",
    "c.   number of clients\n",
    "\n",
    "d.    transformation rate (clients / calls)\n",
    "\n",
    "SELECT DAY(ca.date) as day, count(ca.id) as num_calls, count(cl.id) as num_clients, sum(IF(cl.id IS NULL, 0, 1))/count(ca.id) as transformation_rate\n",
    "FROM calls ca\n",
    "LEFT JOIN clients_crm cl ON CONVERT(ca.incoming_number, CHAR) = cl.PhoneNumber\n",
    "GROUP BY day;"
   ]
  },
  {
   "cell_type": "markdown",
   "metadata": {},
   "source": [
    " 4. Looking more deeply at the client_crm table, it seems that we have clients with identical phone numbers! Can you suggest a query to get rid of those « duplicates »? (we want to keep only one unique client record per phone number)\n",
    "\n",
    " Tips: Note that incoming_number in the calls table, and PhoneNumber in the clients_crm table may not have the same data types and format.\n",
    "\n",
    " SELECT id, FirstName, LastName, PhoneNumber, CreationDate FROM\n",
    " (SELECT id, FirstName, LastName, PhoneNumber, CreationDate, row_number() over (partition by id order by CreationDate) as rn\n",
    " FROM clients_crm)\n",
    " WHERE rn = 1;"
   ]
  },
  {
   "cell_type": "markdown",
   "metadata": {},
   "source": []
  }
 ],
 "metadata": {
  "kernelspec": {
   "display_name": "Python 3.9.13 ('base')",
   "language": "python",
   "name": "python3"
  },
  "language_info": {
   "codemirror_mode": {
    "name": "ipython",
    "version": 3
   },
   "file_extension": ".py",
   "mimetype": "text/x-python",
   "name": "python",
   "nbconvert_exporter": "python",
   "pygments_lexer": "ipython3",
   "version": "3.9.13"
  },
  "orig_nbformat": 4,
  "vscode": {
   "interpreter": {
    "hash": "d17122d79747f4b383b2c6abff0c2edbb0c56782714054fbb4f5a4e0962ae7a0"
   }
  }
 },
 "nbformat": 4,
 "nbformat_minor": 2
}
